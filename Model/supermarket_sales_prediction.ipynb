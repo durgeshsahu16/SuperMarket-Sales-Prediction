{
 "cells": [
  {
   "cell_type": "markdown",
   "id": "273e83c1",
   "metadata": {
    "_cell_guid": "b1076dfc-b9ad-4769-8c92-a6c4dae69d19",
    "_uuid": "8f2839f25d086af736a60e9eeb907d3b93b6e0e5",
    "papermill": {
     "duration": 0.064717,
     "end_time": "2021-07-23T04:10:11.312923",
     "exception": false,
     "start_time": "2021-07-23T04:10:11.248206",
     "status": "completed"
    },
    "tags": []
   },
   "source": [
    "# Supermarket Sales Prediction\n"
   ]
  },
  {
   "cell_type": "markdown",
   "id": "f60522ae",
   "metadata": {
    "papermill": {
     "duration": 0.060799,
     "end_time": "2021-07-23T04:10:11.559366",
     "exception": false,
     "start_time": "2021-07-23T04:10:11.498567",
     "status": "completed"
    },
    "tags": []
   },
   "source": [
    "**In highly populated cities, supermarkets are experiencing significant growth, leading to intense market competition. This dataset contains historical sales data from a supermarket company.**"
   ]
  },
  {
   "cell_type": "markdown",
   "id": "4ad3e5b0",
   "metadata": {
    "papermill": {
     "duration": 0.061882,
     "end_time": "2021-07-23T04:10:11.682692",
     "exception": false,
     "start_time": "2021-07-23T04:10:11.620810",
     "status": "completed"
    },
    "tags": []
   },
   "source": [
    "# IMPORTING THE LIBRARIES"
   ]
  },
  {
   "cell_type": "code",
   "execution_count": 125,
   "id": "b08c5098",
   "metadata": {
    "execution": {
     "iopub.execute_input": "2021-07-23T04:10:11.821909Z",
     "iopub.status.busy": "2021-07-23T04:10:11.821121Z",
     "iopub.status.idle": "2021-07-23T04:10:12.986473Z",
     "shell.execute_reply": "2021-07-23T04:10:12.985801Z",
     "shell.execute_reply.started": "2021-07-23T03:29:33.256053Z"
    },
    "papermill": {
     "duration": 1.24195,
     "end_time": "2021-07-23T04:10:12.986649",
     "exception": false,
     "start_time": "2021-07-23T04:10:11.744699",
     "status": "completed"
    },
    "tags": []
   },
   "outputs": [],
   "source": [
    "import numpy as np\n",
    "import pandas as pd\n",
    "import matplotlib.pyplot as plt\n",
    "import seaborn as sns\n",
    "import sklearn"
   ]
  },
  {
   "cell_type": "markdown",
   "id": "c71a8a71",
   "metadata": {
    "papermill": {
     "duration": 0.061281,
     "end_time": "2021-07-23T04:10:13.110235",
     "exception": false,
     "start_time": "2021-07-23T04:10:13.048954",
     "status": "completed"
    },
    "tags": []
   },
   "source": [
    "# LOADING THE DATASET"
   ]
  },
  {
   "cell_type": "code",
   "execution_count": 126,
   "id": "45844808",
   "metadata": {
    "execution": {
     "iopub.execute_input": "2021-07-23T04:10:13.239282Z",
     "iopub.status.busy": "2021-07-23T04:10:13.238479Z",
     "iopub.status.idle": "2021-07-23T04:10:13.269891Z",
     "shell.execute_reply": "2021-07-23T04:10:13.269186Z",
     "shell.execute_reply.started": "2021-07-23T03:29:34.209560Z"
    },
    "papermill": {
     "duration": 0.097795,
     "end_time": "2021-07-23T04:10:13.270040",
     "exception": false,
     "start_time": "2021-07-23T04:10:13.172245",
     "status": "completed"
    },
    "tags": []
   },
   "outputs": [
    {
     "data": {
      "text/html": [
       "<div>\n",
       "<style scoped>\n",
       "    .dataframe tbody tr th:only-of-type {\n",
       "        vertical-align: middle;\n",
       "    }\n",
       "\n",
       "    .dataframe tbody tr th {\n",
       "        vertical-align: top;\n",
       "    }\n",
       "\n",
       "    .dataframe thead th {\n",
       "        text-align: right;\n",
       "    }\n",
       "</style>\n",
       "<table border=\"1\" class=\"dataframe\">\n",
       "  <thead>\n",
       "    <tr style=\"text-align: right;\">\n",
       "      <th></th>\n",
       "      <th>Invoice ID</th>\n",
       "      <th>Branch</th>\n",
       "      <th>City</th>\n",
       "      <th>Customer type</th>\n",
       "      <th>Gender</th>\n",
       "      <th>Product line</th>\n",
       "      <th>Unit price</th>\n",
       "      <th>Quantity</th>\n",
       "      <th>Tax 5%</th>\n",
       "      <th>Total</th>\n",
       "      <th>Date</th>\n",
       "      <th>Time</th>\n",
       "      <th>Payment</th>\n",
       "      <th>cogs</th>\n",
       "      <th>gross margin percentage</th>\n",
       "      <th>gross income</th>\n",
       "      <th>Rating</th>\n",
       "    </tr>\n",
       "  </thead>\n",
       "  <tbody>\n",
       "    <tr>\n",
       "      <th>0</th>\n",
       "      <td>750-67-8428</td>\n",
       "      <td>A</td>\n",
       "      <td>Yangon</td>\n",
       "      <td>Member</td>\n",
       "      <td>Female</td>\n",
       "      <td>Health and beauty</td>\n",
       "      <td>74.69</td>\n",
       "      <td>7</td>\n",
       "      <td>26.1415</td>\n",
       "      <td>548.9715</td>\n",
       "      <td>1/5/2019</td>\n",
       "      <td>13:08</td>\n",
       "      <td>Ewallet</td>\n",
       "      <td>522.83</td>\n",
       "      <td>4.761905</td>\n",
       "      <td>26.1415</td>\n",
       "      <td>9.1</td>\n",
       "    </tr>\n",
       "    <tr>\n",
       "      <th>1</th>\n",
       "      <td>226-31-3081</td>\n",
       "      <td>C</td>\n",
       "      <td>Naypyitaw</td>\n",
       "      <td>Normal</td>\n",
       "      <td>Female</td>\n",
       "      <td>Electronic accessories</td>\n",
       "      <td>15.28</td>\n",
       "      <td>5</td>\n",
       "      <td>3.8200</td>\n",
       "      <td>80.2200</td>\n",
       "      <td>3/8/2019</td>\n",
       "      <td>10:29</td>\n",
       "      <td>Cash</td>\n",
       "      <td>76.40</td>\n",
       "      <td>4.761905</td>\n",
       "      <td>3.8200</td>\n",
       "      <td>9.6</td>\n",
       "    </tr>\n",
       "    <tr>\n",
       "      <th>2</th>\n",
       "      <td>631-41-3108</td>\n",
       "      <td>A</td>\n",
       "      <td>Yangon</td>\n",
       "      <td>Normal</td>\n",
       "      <td>Male</td>\n",
       "      <td>Home and lifestyle</td>\n",
       "      <td>46.33</td>\n",
       "      <td>7</td>\n",
       "      <td>16.2155</td>\n",
       "      <td>340.5255</td>\n",
       "      <td>3/3/2019</td>\n",
       "      <td>13:23</td>\n",
       "      <td>Credit card</td>\n",
       "      <td>324.31</td>\n",
       "      <td>4.761905</td>\n",
       "      <td>16.2155</td>\n",
       "      <td>7.4</td>\n",
       "    </tr>\n",
       "    <tr>\n",
       "      <th>3</th>\n",
       "      <td>123-19-1176</td>\n",
       "      <td>A</td>\n",
       "      <td>Yangon</td>\n",
       "      <td>Member</td>\n",
       "      <td>Male</td>\n",
       "      <td>Health and beauty</td>\n",
       "      <td>58.22</td>\n",
       "      <td>8</td>\n",
       "      <td>23.2880</td>\n",
       "      <td>489.0480</td>\n",
       "      <td>1/27/2019</td>\n",
       "      <td>20:33</td>\n",
       "      <td>Ewallet</td>\n",
       "      <td>465.76</td>\n",
       "      <td>4.761905</td>\n",
       "      <td>23.2880</td>\n",
       "      <td>8.4</td>\n",
       "    </tr>\n",
       "    <tr>\n",
       "      <th>4</th>\n",
       "      <td>373-73-7910</td>\n",
       "      <td>A</td>\n",
       "      <td>Yangon</td>\n",
       "      <td>Normal</td>\n",
       "      <td>Male</td>\n",
       "      <td>Sports and travel</td>\n",
       "      <td>86.31</td>\n",
       "      <td>7</td>\n",
       "      <td>30.2085</td>\n",
       "      <td>634.3785</td>\n",
       "      <td>2/8/2019</td>\n",
       "      <td>10:37</td>\n",
       "      <td>Ewallet</td>\n",
       "      <td>604.17</td>\n",
       "      <td>4.761905</td>\n",
       "      <td>30.2085</td>\n",
       "      <td>5.3</td>\n",
       "    </tr>\n",
       "    <tr>\n",
       "      <th>...</th>\n",
       "      <td>...</td>\n",
       "      <td>...</td>\n",
       "      <td>...</td>\n",
       "      <td>...</td>\n",
       "      <td>...</td>\n",
       "      <td>...</td>\n",
       "      <td>...</td>\n",
       "      <td>...</td>\n",
       "      <td>...</td>\n",
       "      <td>...</td>\n",
       "      <td>...</td>\n",
       "      <td>...</td>\n",
       "      <td>...</td>\n",
       "      <td>...</td>\n",
       "      <td>...</td>\n",
       "      <td>...</td>\n",
       "      <td>...</td>\n",
       "    </tr>\n",
       "    <tr>\n",
       "      <th>995</th>\n",
       "      <td>233-67-5758</td>\n",
       "      <td>C</td>\n",
       "      <td>Naypyitaw</td>\n",
       "      <td>Normal</td>\n",
       "      <td>Male</td>\n",
       "      <td>Health and beauty</td>\n",
       "      <td>40.35</td>\n",
       "      <td>1</td>\n",
       "      <td>2.0175</td>\n",
       "      <td>42.3675</td>\n",
       "      <td>1/29/2019</td>\n",
       "      <td>13:46</td>\n",
       "      <td>Ewallet</td>\n",
       "      <td>40.35</td>\n",
       "      <td>4.761905</td>\n",
       "      <td>2.0175</td>\n",
       "      <td>6.2</td>\n",
       "    </tr>\n",
       "    <tr>\n",
       "      <th>996</th>\n",
       "      <td>303-96-2227</td>\n",
       "      <td>B</td>\n",
       "      <td>Mandalay</td>\n",
       "      <td>Normal</td>\n",
       "      <td>Female</td>\n",
       "      <td>Home and lifestyle</td>\n",
       "      <td>97.38</td>\n",
       "      <td>10</td>\n",
       "      <td>48.6900</td>\n",
       "      <td>1022.4900</td>\n",
       "      <td>3/2/2019</td>\n",
       "      <td>17:16</td>\n",
       "      <td>Ewallet</td>\n",
       "      <td>973.80</td>\n",
       "      <td>4.761905</td>\n",
       "      <td>48.6900</td>\n",
       "      <td>4.4</td>\n",
       "    </tr>\n",
       "    <tr>\n",
       "      <th>997</th>\n",
       "      <td>727-02-1313</td>\n",
       "      <td>A</td>\n",
       "      <td>Yangon</td>\n",
       "      <td>Member</td>\n",
       "      <td>Male</td>\n",
       "      <td>Food and beverages</td>\n",
       "      <td>31.84</td>\n",
       "      <td>1</td>\n",
       "      <td>1.5920</td>\n",
       "      <td>33.4320</td>\n",
       "      <td>2/9/2019</td>\n",
       "      <td>13:22</td>\n",
       "      <td>Cash</td>\n",
       "      <td>31.84</td>\n",
       "      <td>4.761905</td>\n",
       "      <td>1.5920</td>\n",
       "      <td>7.7</td>\n",
       "    </tr>\n",
       "    <tr>\n",
       "      <th>998</th>\n",
       "      <td>347-56-2442</td>\n",
       "      <td>A</td>\n",
       "      <td>Yangon</td>\n",
       "      <td>Normal</td>\n",
       "      <td>Male</td>\n",
       "      <td>Home and lifestyle</td>\n",
       "      <td>65.82</td>\n",
       "      <td>1</td>\n",
       "      <td>3.2910</td>\n",
       "      <td>69.1110</td>\n",
       "      <td>2/22/2019</td>\n",
       "      <td>15:33</td>\n",
       "      <td>Cash</td>\n",
       "      <td>65.82</td>\n",
       "      <td>4.761905</td>\n",
       "      <td>3.2910</td>\n",
       "      <td>4.1</td>\n",
       "    </tr>\n",
       "    <tr>\n",
       "      <th>999</th>\n",
       "      <td>849-09-3807</td>\n",
       "      <td>A</td>\n",
       "      <td>Yangon</td>\n",
       "      <td>Member</td>\n",
       "      <td>Female</td>\n",
       "      <td>Fashion accessories</td>\n",
       "      <td>88.34</td>\n",
       "      <td>7</td>\n",
       "      <td>30.9190</td>\n",
       "      <td>649.2990</td>\n",
       "      <td>2/18/2019</td>\n",
       "      <td>13:28</td>\n",
       "      <td>Cash</td>\n",
       "      <td>618.38</td>\n",
       "      <td>4.761905</td>\n",
       "      <td>30.9190</td>\n",
       "      <td>6.6</td>\n",
       "    </tr>\n",
       "  </tbody>\n",
       "</table>\n",
       "<p>1000 rows × 17 columns</p>\n",
       "</div>"
      ],
      "text/plain": [
       "      Invoice ID Branch       City Customer type  Gender  \\\n",
       "0    750-67-8428      A     Yangon        Member  Female   \n",
       "1    226-31-3081      C  Naypyitaw        Normal  Female   \n",
       "2    631-41-3108      A     Yangon        Normal    Male   \n",
       "3    123-19-1176      A     Yangon        Member    Male   \n",
       "4    373-73-7910      A     Yangon        Normal    Male   \n",
       "..           ...    ...        ...           ...     ...   \n",
       "995  233-67-5758      C  Naypyitaw        Normal    Male   \n",
       "996  303-96-2227      B   Mandalay        Normal  Female   \n",
       "997  727-02-1313      A     Yangon        Member    Male   \n",
       "998  347-56-2442      A     Yangon        Normal    Male   \n",
       "999  849-09-3807      A     Yangon        Member  Female   \n",
       "\n",
       "               Product line  Unit price  Quantity   Tax 5%      Total  \\\n",
       "0         Health and beauty       74.69         7  26.1415   548.9715   \n",
       "1    Electronic accessories       15.28         5   3.8200    80.2200   \n",
       "2        Home and lifestyle       46.33         7  16.2155   340.5255   \n",
       "3         Health and beauty       58.22         8  23.2880   489.0480   \n",
       "4         Sports and travel       86.31         7  30.2085   634.3785   \n",
       "..                      ...         ...       ...      ...        ...   \n",
       "995       Health and beauty       40.35         1   2.0175    42.3675   \n",
       "996      Home and lifestyle       97.38        10  48.6900  1022.4900   \n",
       "997      Food and beverages       31.84         1   1.5920    33.4320   \n",
       "998      Home and lifestyle       65.82         1   3.2910    69.1110   \n",
       "999     Fashion accessories       88.34         7  30.9190   649.2990   \n",
       "\n",
       "          Date   Time      Payment    cogs  gross margin percentage  \\\n",
       "0     1/5/2019  13:08      Ewallet  522.83                 4.761905   \n",
       "1     3/8/2019  10:29         Cash   76.40                 4.761905   \n",
       "2     3/3/2019  13:23  Credit card  324.31                 4.761905   \n",
       "3    1/27/2019  20:33      Ewallet  465.76                 4.761905   \n",
       "4     2/8/2019  10:37      Ewallet  604.17                 4.761905   \n",
       "..         ...    ...          ...     ...                      ...   \n",
       "995  1/29/2019  13:46      Ewallet   40.35                 4.761905   \n",
       "996   3/2/2019  17:16      Ewallet  973.80                 4.761905   \n",
       "997   2/9/2019  13:22         Cash   31.84                 4.761905   \n",
       "998  2/22/2019  15:33         Cash   65.82                 4.761905   \n",
       "999  2/18/2019  13:28         Cash  618.38                 4.761905   \n",
       "\n",
       "     gross income  Rating  \n",
       "0         26.1415     9.1  \n",
       "1          3.8200     9.6  \n",
       "2         16.2155     7.4  \n",
       "3         23.2880     8.4  \n",
       "4         30.2085     5.3  \n",
       "..            ...     ...  \n",
       "995        2.0175     6.2  \n",
       "996       48.6900     4.4  \n",
       "997        1.5920     7.7  \n",
       "998        3.2910     4.1  \n",
       "999       30.9190     6.6  \n",
       "\n",
       "[1000 rows x 17 columns]"
      ]
     },
     "execution_count": 126,
     "metadata": {},
     "output_type": "execute_result"
    }
   ],
   "source": [
    "df = pd.read_csv('supermarket_sales - Sheet1.csv')\n",
    "df"
   ]
  },
  {
   "cell_type": "markdown",
   "id": "9cc0523f",
   "metadata": {},
   "source": [
    "# UNDERSTANDING THE DATA"
   ]
  },
  {
   "cell_type": "code",
   "execution_count": 127,
   "id": "203f40fb",
   "metadata": {
    "execution": {
     "iopub.execute_input": "2021-07-23T04:10:13.604763Z",
     "iopub.status.busy": "2021-07-23T04:10:13.604052Z",
     "iopub.status.idle": "2021-07-23T04:10:13.607273Z",
     "shell.execute_reply": "2021-07-23T04:10:13.607807Z",
     "shell.execute_reply.started": "2021-07-23T03:29:34.303256Z"
    },
    "papermill": {
     "duration": 0.089707,
     "end_time": "2021-07-23T04:10:13.607978",
     "exception": false,
     "start_time": "2021-07-23T04:10:13.518271",
     "status": "completed"
    },
    "tags": []
   },
   "outputs": [
    {
     "data": {
      "text/plain": [
       "Invoice ID                  object\n",
       "Branch                      object\n",
       "City                        object\n",
       "Customer type               object\n",
       "Gender                      object\n",
       "Product line                object\n",
       "Unit price                 float64\n",
       "Quantity                     int64\n",
       "Tax 5%                     float64\n",
       "Total                      float64\n",
       "Date                        object\n",
       "Time                        object\n",
       "Payment                     object\n",
       "cogs                       float64\n",
       "gross margin percentage    float64\n",
       "gross income               float64\n",
       "Rating                     float64\n",
       "dtype: object"
      ]
     },
     "execution_count": 127,
     "metadata": {},
     "output_type": "execute_result"
    }
   ],
   "source": [
    "df.dtypes"
   ]
  },
  {
   "cell_type": "code",
   "execution_count": 128,
   "id": "f490641e",
   "metadata": {
    "execution": {
     "iopub.execute_input": "2021-07-23T04:10:13.748569Z",
     "iopub.status.busy": "2021-07-23T04:10:13.747629Z",
     "iopub.status.idle": "2021-07-23T04:10:13.785782Z",
     "shell.execute_reply": "2021-07-23T04:10:13.785217Z",
     "shell.execute_reply.started": "2021-07-23T03:29:34.328900Z"
    },
    "papermill": {
     "duration": 0.113762,
     "end_time": "2021-07-23T04:10:13.785935",
     "exception": false,
     "start_time": "2021-07-23T04:10:13.672173",
     "status": "completed"
    },
    "tags": []
   },
   "outputs": [
    {
     "data": {
      "text/plain": [
       "(1000, 17)"
      ]
     },
     "execution_count": 128,
     "metadata": {},
     "output_type": "execute_result"
    }
   ],
   "source": [
    "df.shape"
   ]
  },
  {
   "cell_type": "code",
   "execution_count": 129,
   "id": "589b6174",
   "metadata": {
    "execution": {
     "iopub.execute_input": "2021-07-23T04:10:13.931852Z",
     "iopub.status.busy": "2021-07-23T04:10:13.929557Z",
     "iopub.status.idle": "2021-07-23T04:10:13.935406Z",
     "shell.execute_reply": "2021-07-23T04:10:13.935944Z",
     "shell.execute_reply.started": "2021-07-23T03:29:34.381282Z"
    },
    "papermill": {
     "duration": 0.085894,
     "end_time": "2021-07-23T04:10:13.936123",
     "exception": false,
     "start_time": "2021-07-23T04:10:13.850229",
     "status": "completed"
    },
    "tags": []
   },
   "outputs": [
    {
     "data": {
      "text/plain": [
       "17000"
      ]
     },
     "execution_count": 129,
     "metadata": {},
     "output_type": "execute_result"
    }
   ],
   "source": [
    "df.size"
   ]
  },
  {
   "cell_type": "code",
   "execution_count": 130,
   "id": "f2e10b1c",
   "metadata": {},
   "outputs": [
    {
     "data": {
      "text/plain": [
       "Index(['Invoice ID', 'Branch', 'City', 'Customer type', 'Gender',\n",
       "       'Product line', 'Unit price', 'Quantity', 'Tax 5%', 'Total', 'Date',\n",
       "       'Time', 'Payment', 'cogs', 'gross margin percentage', 'gross income',\n",
       "       'Rating'],\n",
       "      dtype='object')"
      ]
     },
     "execution_count": 130,
     "metadata": {},
     "output_type": "execute_result"
    }
   ],
   "source": [
    "df.columns"
   ]
  },
  {
   "cell_type": "code",
   "execution_count": 131,
   "id": "e89941eb",
   "metadata": {},
   "outputs": [
    {
     "data": {
      "text/plain": [
       "Invoice ID                       898-04-2717\n",
       "Branch                                     C\n",
       "City                                  Yangon\n",
       "Customer type                         Normal\n",
       "Gender                                  Male\n",
       "Product line               Sports and travel\n",
       "Unit price                             99.96\n",
       "Quantity                                  10\n",
       "Tax 5%                                 49.65\n",
       "Total                                1042.65\n",
       "Date                                3/9/2019\n",
       "Time                                   20:59\n",
       "Payment                              Ewallet\n",
       "cogs                                   993.0\n",
       "gross margin percentage             4.761905\n",
       "gross income                           49.65\n",
       "Rating                                  10.0\n",
       "dtype: object"
      ]
     },
     "execution_count": 131,
     "metadata": {},
     "output_type": "execute_result"
    }
   ],
   "source": [
    "df.max()"
   ]
  },
  {
   "cell_type": "code",
   "execution_count": 132,
   "id": "e8c43df1",
   "metadata": {},
   "outputs": [
    {
     "data": {
      "text/plain": [
       "Invoice ID                            101-17-6199\n",
       "Branch                                          A\n",
       "City                                     Mandalay\n",
       "Customer type                              Member\n",
       "Gender                                     Female\n",
       "Product line               Electronic accessories\n",
       "Unit price                                  10.08\n",
       "Quantity                                        1\n",
       "Tax 5%                                     0.5085\n",
       "Total                                     10.6785\n",
       "Date                                     1/1/2019\n",
       "Time                                        10:00\n",
       "Payment                                      Cash\n",
       "cogs                                        10.17\n",
       "gross margin percentage                  4.761905\n",
       "gross income                               0.5085\n",
       "Rating                                        4.0\n",
       "dtype: object"
      ]
     },
     "execution_count": 132,
     "metadata": {},
     "output_type": "execute_result"
    }
   ],
   "source": [
    "df.min()"
   ]
  },
  {
   "cell_type": "code",
   "execution_count": 133,
   "id": "02db792b",
   "metadata": {},
   "outputs": [
    {
     "name": "stdout",
     "output_type": "stream",
     "text": [
      "<class 'pandas.core.frame.DataFrame'>\n",
      "RangeIndex: 1000 entries, 0 to 999\n",
      "Data columns (total 17 columns):\n",
      " #   Column                   Non-Null Count  Dtype  \n",
      "---  ------                   --------------  -----  \n",
      " 0   Invoice ID               1000 non-null   object \n",
      " 1   Branch                   1000 non-null   object \n",
      " 2   City                     1000 non-null   object \n",
      " 3   Customer type            1000 non-null   object \n",
      " 4   Gender                   1000 non-null   object \n",
      " 5   Product line             1000 non-null   object \n",
      " 6   Unit price               1000 non-null   float64\n",
      " 7   Quantity                 1000 non-null   int64  \n",
      " 8   Tax 5%                   1000 non-null   float64\n",
      " 9   Total                    1000 non-null   float64\n",
      " 10  Date                     1000 non-null   object \n",
      " 11  Time                     1000 non-null   object \n",
      " 12  Payment                  1000 non-null   object \n",
      " 13  cogs                     1000 non-null   float64\n",
      " 14  gross margin percentage  1000 non-null   float64\n",
      " 15  gross income             1000 non-null   float64\n",
      " 16  Rating                   1000 non-null   float64\n",
      "dtypes: float64(7), int64(1), object(9)\n",
      "memory usage: 132.9+ KB\n"
     ]
    }
   ],
   "source": [
    "df.info()"
   ]
  },
  {
   "cell_type": "code",
   "execution_count": 134,
   "id": "1d4e160e",
   "metadata": {},
   "outputs": [
    {
     "data": {
      "text/html": [
       "<div>\n",
       "<style scoped>\n",
       "    .dataframe tbody tr th:only-of-type {\n",
       "        vertical-align: middle;\n",
       "    }\n",
       "\n",
       "    .dataframe tbody tr th {\n",
       "        vertical-align: top;\n",
       "    }\n",
       "\n",
       "    .dataframe thead th {\n",
       "        text-align: right;\n",
       "    }\n",
       "</style>\n",
       "<table border=\"1\" class=\"dataframe\">\n",
       "  <thead>\n",
       "    <tr style=\"text-align: right;\">\n",
       "      <th></th>\n",
       "      <th>Unit price</th>\n",
       "      <th>Quantity</th>\n",
       "      <th>Tax 5%</th>\n",
       "      <th>Total</th>\n",
       "      <th>cogs</th>\n",
       "      <th>gross margin percentage</th>\n",
       "      <th>gross income</th>\n",
       "      <th>Rating</th>\n",
       "    </tr>\n",
       "  </thead>\n",
       "  <tbody>\n",
       "    <tr>\n",
       "      <th>count</th>\n",
       "      <td>1000.000000</td>\n",
       "      <td>1000.000000</td>\n",
       "      <td>1000.000000</td>\n",
       "      <td>1000.000000</td>\n",
       "      <td>1000.00000</td>\n",
       "      <td>1.000000e+03</td>\n",
       "      <td>1000.000000</td>\n",
       "      <td>1000.00000</td>\n",
       "    </tr>\n",
       "    <tr>\n",
       "      <th>mean</th>\n",
       "      <td>55.672130</td>\n",
       "      <td>5.510000</td>\n",
       "      <td>15.379369</td>\n",
       "      <td>322.966749</td>\n",
       "      <td>307.58738</td>\n",
       "      <td>4.761905e+00</td>\n",
       "      <td>15.379369</td>\n",
       "      <td>6.97270</td>\n",
       "    </tr>\n",
       "    <tr>\n",
       "      <th>std</th>\n",
       "      <td>26.494628</td>\n",
       "      <td>2.923431</td>\n",
       "      <td>11.708825</td>\n",
       "      <td>245.885335</td>\n",
       "      <td>234.17651</td>\n",
       "      <td>6.131498e-14</td>\n",
       "      <td>11.708825</td>\n",
       "      <td>1.71858</td>\n",
       "    </tr>\n",
       "    <tr>\n",
       "      <th>min</th>\n",
       "      <td>10.080000</td>\n",
       "      <td>1.000000</td>\n",
       "      <td>0.508500</td>\n",
       "      <td>10.678500</td>\n",
       "      <td>10.17000</td>\n",
       "      <td>4.761905e+00</td>\n",
       "      <td>0.508500</td>\n",
       "      <td>4.00000</td>\n",
       "    </tr>\n",
       "    <tr>\n",
       "      <th>25%</th>\n",
       "      <td>32.875000</td>\n",
       "      <td>3.000000</td>\n",
       "      <td>5.924875</td>\n",
       "      <td>124.422375</td>\n",
       "      <td>118.49750</td>\n",
       "      <td>4.761905e+00</td>\n",
       "      <td>5.924875</td>\n",
       "      <td>5.50000</td>\n",
       "    </tr>\n",
       "    <tr>\n",
       "      <th>50%</th>\n",
       "      <td>55.230000</td>\n",
       "      <td>5.000000</td>\n",
       "      <td>12.088000</td>\n",
       "      <td>253.848000</td>\n",
       "      <td>241.76000</td>\n",
       "      <td>4.761905e+00</td>\n",
       "      <td>12.088000</td>\n",
       "      <td>7.00000</td>\n",
       "    </tr>\n",
       "    <tr>\n",
       "      <th>75%</th>\n",
       "      <td>77.935000</td>\n",
       "      <td>8.000000</td>\n",
       "      <td>22.445250</td>\n",
       "      <td>471.350250</td>\n",
       "      <td>448.90500</td>\n",
       "      <td>4.761905e+00</td>\n",
       "      <td>22.445250</td>\n",
       "      <td>8.50000</td>\n",
       "    </tr>\n",
       "    <tr>\n",
       "      <th>max</th>\n",
       "      <td>99.960000</td>\n",
       "      <td>10.000000</td>\n",
       "      <td>49.650000</td>\n",
       "      <td>1042.650000</td>\n",
       "      <td>993.00000</td>\n",
       "      <td>4.761905e+00</td>\n",
       "      <td>49.650000</td>\n",
       "      <td>10.00000</td>\n",
       "    </tr>\n",
       "  </tbody>\n",
       "</table>\n",
       "</div>"
      ],
      "text/plain": [
       "        Unit price     Quantity       Tax 5%        Total        cogs  \\\n",
       "count  1000.000000  1000.000000  1000.000000  1000.000000  1000.00000   \n",
       "mean     55.672130     5.510000    15.379369   322.966749   307.58738   \n",
       "std      26.494628     2.923431    11.708825   245.885335   234.17651   \n",
       "min      10.080000     1.000000     0.508500    10.678500    10.17000   \n",
       "25%      32.875000     3.000000     5.924875   124.422375   118.49750   \n",
       "50%      55.230000     5.000000    12.088000   253.848000   241.76000   \n",
       "75%      77.935000     8.000000    22.445250   471.350250   448.90500   \n",
       "max      99.960000    10.000000    49.650000  1042.650000   993.00000   \n",
       "\n",
       "       gross margin percentage  gross income      Rating  \n",
       "count             1.000000e+03   1000.000000  1000.00000  \n",
       "mean              4.761905e+00     15.379369     6.97270  \n",
       "std               6.131498e-14     11.708825     1.71858  \n",
       "min               4.761905e+00      0.508500     4.00000  \n",
       "25%               4.761905e+00      5.924875     5.50000  \n",
       "50%               4.761905e+00     12.088000     7.00000  \n",
       "75%               4.761905e+00     22.445250     8.50000  \n",
       "max               4.761905e+00     49.650000    10.00000  "
      ]
     },
     "execution_count": 134,
     "metadata": {},
     "output_type": "execute_result"
    }
   ],
   "source": [
    "df.describe()"
   ]
  },
  {
   "cell_type": "code",
   "execution_count": 135,
   "id": "a7dec7a7",
   "metadata": {},
   "outputs": [
    {
     "data": {
      "text/html": [
       "<div>\n",
       "<style scoped>\n",
       "    .dataframe tbody tr th:only-of-type {\n",
       "        vertical-align: middle;\n",
       "    }\n",
       "\n",
       "    .dataframe tbody tr th {\n",
       "        vertical-align: top;\n",
       "    }\n",
       "\n",
       "    .dataframe thead th {\n",
       "        text-align: right;\n",
       "    }\n",
       "</style>\n",
       "<table border=\"1\" class=\"dataframe\">\n",
       "  <thead>\n",
       "    <tr style=\"text-align: right;\">\n",
       "      <th></th>\n",
       "      <th>Unit price</th>\n",
       "      <th>Quantity</th>\n",
       "      <th>Tax 5%</th>\n",
       "      <th>Total</th>\n",
       "      <th>cogs</th>\n",
       "      <th>gross margin percentage</th>\n",
       "      <th>gross income</th>\n",
       "      <th>Rating</th>\n",
       "    </tr>\n",
       "  </thead>\n",
       "  <tbody>\n",
       "    <tr>\n",
       "      <th>Unit price</th>\n",
       "      <td>1.000000</td>\n",
       "      <td>0.010778</td>\n",
       "      <td>0.633962</td>\n",
       "      <td>0.633962</td>\n",
       "      <td>0.633962</td>\n",
       "      <td>NaN</td>\n",
       "      <td>0.633962</td>\n",
       "      <td>-0.008778</td>\n",
       "    </tr>\n",
       "    <tr>\n",
       "      <th>Quantity</th>\n",
       "      <td>0.010778</td>\n",
       "      <td>1.000000</td>\n",
       "      <td>0.705510</td>\n",
       "      <td>0.705510</td>\n",
       "      <td>0.705510</td>\n",
       "      <td>NaN</td>\n",
       "      <td>0.705510</td>\n",
       "      <td>-0.015815</td>\n",
       "    </tr>\n",
       "    <tr>\n",
       "      <th>Tax 5%</th>\n",
       "      <td>0.633962</td>\n",
       "      <td>0.705510</td>\n",
       "      <td>1.000000</td>\n",
       "      <td>1.000000</td>\n",
       "      <td>1.000000</td>\n",
       "      <td>NaN</td>\n",
       "      <td>1.000000</td>\n",
       "      <td>-0.036442</td>\n",
       "    </tr>\n",
       "    <tr>\n",
       "      <th>Total</th>\n",
       "      <td>0.633962</td>\n",
       "      <td>0.705510</td>\n",
       "      <td>1.000000</td>\n",
       "      <td>1.000000</td>\n",
       "      <td>1.000000</td>\n",
       "      <td>NaN</td>\n",
       "      <td>1.000000</td>\n",
       "      <td>-0.036442</td>\n",
       "    </tr>\n",
       "    <tr>\n",
       "      <th>cogs</th>\n",
       "      <td>0.633962</td>\n",
       "      <td>0.705510</td>\n",
       "      <td>1.000000</td>\n",
       "      <td>1.000000</td>\n",
       "      <td>1.000000</td>\n",
       "      <td>NaN</td>\n",
       "      <td>1.000000</td>\n",
       "      <td>-0.036442</td>\n",
       "    </tr>\n",
       "    <tr>\n",
       "      <th>gross margin percentage</th>\n",
       "      <td>NaN</td>\n",
       "      <td>NaN</td>\n",
       "      <td>NaN</td>\n",
       "      <td>NaN</td>\n",
       "      <td>NaN</td>\n",
       "      <td>NaN</td>\n",
       "      <td>NaN</td>\n",
       "      <td>NaN</td>\n",
       "    </tr>\n",
       "    <tr>\n",
       "      <th>gross income</th>\n",
       "      <td>0.633962</td>\n",
       "      <td>0.705510</td>\n",
       "      <td>1.000000</td>\n",
       "      <td>1.000000</td>\n",
       "      <td>1.000000</td>\n",
       "      <td>NaN</td>\n",
       "      <td>1.000000</td>\n",
       "      <td>-0.036442</td>\n",
       "    </tr>\n",
       "    <tr>\n",
       "      <th>Rating</th>\n",
       "      <td>-0.008778</td>\n",
       "      <td>-0.015815</td>\n",
       "      <td>-0.036442</td>\n",
       "      <td>-0.036442</td>\n",
       "      <td>-0.036442</td>\n",
       "      <td>NaN</td>\n",
       "      <td>-0.036442</td>\n",
       "      <td>1.000000</td>\n",
       "    </tr>\n",
       "  </tbody>\n",
       "</table>\n",
       "</div>"
      ],
      "text/plain": [
       "                         Unit price  Quantity    Tax 5%     Total      cogs  \\\n",
       "Unit price                 1.000000  0.010778  0.633962  0.633962  0.633962   \n",
       "Quantity                   0.010778  1.000000  0.705510  0.705510  0.705510   \n",
       "Tax 5%                     0.633962  0.705510  1.000000  1.000000  1.000000   \n",
       "Total                      0.633962  0.705510  1.000000  1.000000  1.000000   \n",
       "cogs                       0.633962  0.705510  1.000000  1.000000  1.000000   \n",
       "gross margin percentage         NaN       NaN       NaN       NaN       NaN   \n",
       "gross income               0.633962  0.705510  1.000000  1.000000  1.000000   \n",
       "Rating                    -0.008778 -0.015815 -0.036442 -0.036442 -0.036442   \n",
       "\n",
       "                         gross margin percentage  gross income    Rating  \n",
       "Unit price                                   NaN      0.633962 -0.008778  \n",
       "Quantity                                     NaN      0.705510 -0.015815  \n",
       "Tax 5%                                       NaN      1.000000 -0.036442  \n",
       "Total                                        NaN      1.000000 -0.036442  \n",
       "cogs                                         NaN      1.000000 -0.036442  \n",
       "gross margin percentage                      NaN           NaN       NaN  \n",
       "gross income                                 NaN      1.000000 -0.036442  \n",
       "Rating                                       NaN     -0.036442  1.000000  "
      ]
     },
     "execution_count": 135,
     "metadata": {},
     "output_type": "execute_result"
    }
   ],
   "source": [
    "df.corr()"
   ]
  },
  {
   "cell_type": "code",
   "execution_count": 136,
   "id": "853405cb",
   "metadata": {},
   "outputs": [
    {
     "data": {
      "text/plain": [
       "Invoice ID                 1000\n",
       "Branch                        3\n",
       "City                          3\n",
       "Customer type                 2\n",
       "Gender                        2\n",
       "Product line                  6\n",
       "Unit price                  943\n",
       "Quantity                     10\n",
       "Tax 5%                      990\n",
       "Total                       990\n",
       "Date                         89\n",
       "Time                        506\n",
       "Payment                       3\n",
       "cogs                        990\n",
       "gross margin percentage       1\n",
       "gross income                990\n",
       "Rating                       61\n",
       "dtype: int64"
      ]
     },
     "execution_count": 136,
     "metadata": {},
     "output_type": "execute_result"
    }
   ],
   "source": [
    "df.nunique()"
   ]
  },
  {
   "cell_type": "code",
   "execution_count": 137,
   "id": "e398a777",
   "metadata": {
    "execution": {
     "iopub.execute_input": "2021-07-23T04:10:14.076627Z",
     "iopub.status.busy": "2021-07-23T04:10:14.075553Z",
     "iopub.status.idle": "2021-07-23T04:10:14.107423Z",
     "shell.execute_reply": "2021-07-23T04:10:14.106931Z",
     "shell.execute_reply.started": "2021-07-23T03:29:34.404966Z"
    },
    "papermill": {
     "duration": 0.10508,
     "end_time": "2021-07-23T04:10:14.107561",
     "exception": false,
     "start_time": "2021-07-23T04:10:14.002481",
     "status": "completed"
    },
    "tags": []
   },
   "outputs": [
    {
     "data": {
      "text/plain": [
       "Invoice ID   Branch  City       Customer type  Gender  Product line         Unit price  Quantity  Tax 5%   Total     Date       Time   Payment      cogs    gross margin percentage  gross income  Rating\n",
       "101-17-6199  A       Yangon     Normal         Male    Food and beverages   45.79       7         16.0265  336.5565  3/13/2019  19:44  Credit card  320.53  4.761905                 16.0265       7.0       1\n",
       "641-62-7288  B       Mandalay   Normal         Male    Home and lifestyle   99.92       6         29.9760  629.4960  3/24/2019  13:33  Ewallet      599.52  4.761905                 29.9760       7.1       1\n",
       "633-91-1052  A       Yangon     Normal         Female  Home and lifestyle   12.03       2         1.2030   25.2630   1/27/2019  15:51  Cash         24.06   4.761905                 1.2030        5.1       1\n",
       "634-97-8956  A       Yangon     Normal         Male    Food and beverages   32.90       3         4.9350   103.6350  2/17/2019  17:27  Credit card  98.70   4.761905                 4.9350        9.1       1\n",
       "635-28-5728  A       Yangon     Normal         Male    Health and beauty    56.00       3         8.4000   176.4000  2/28/2019  19:33  Ewallet      168.00  4.761905                 8.4000        4.8       1\n",
       "                                                                                                                                                                                                            ..\n",
       "373-14-0504  A       Yangon     Member         Female  Sports and travel    71.63       2         7.1630   150.4230  2/12/2019  14:33  Ewallet      143.26  4.761905                 7.1630        8.8       1\n",
       "373-73-7910  A       Yangon     Normal         Male    Sports and travel    86.31       7         30.2085  634.3785  2/8/2019   10:37  Ewallet      604.17  4.761905                 30.2085       5.3       1\n",
       "373-88-1424  C       Naypyitaw  Member         Male    Home and lifestyle   35.81       5         8.9525   188.0025  2/6/2019   18:44  Ewallet      179.05  4.761905                 8.9525        7.9       1\n",
       "374-17-3652  B       Mandalay   Member         Female  Food and beverages   42.82       9         19.2690  404.6490  2/5/2019   15:26  Credit card  385.38  4.761905                 19.2690       8.9       1\n",
       "898-04-2717  A       Yangon     Normal         Male    Fashion accessories  76.40       9         34.3800  721.9800  3/19/2019  15:49  Ewallet      687.60  4.761905                 34.3800       7.5       1\n",
       "Length: 1000, dtype: int64"
      ]
     },
     "execution_count": 137,
     "metadata": {},
     "output_type": "execute_result"
    }
   ],
   "source": [
    "df.value_counts()"
   ]
  },
  {
   "cell_type": "markdown",
   "id": "1ada7ed1",
   "metadata": {
    "papermill": {
     "duration": 0.065628,
     "end_time": "2021-07-23T04:10:14.663988",
     "exception": false,
     "start_time": "2021-07-23T04:10:14.598360",
     "status": "completed"
    },
    "tags": []
   },
   "source": [
    "**Checking Null Value**"
   ]
  },
  {
   "cell_type": "code",
   "execution_count": 138,
   "id": "dc3b7843",
   "metadata": {
    "execution": {
     "iopub.execute_input": "2021-07-23T04:10:14.799961Z",
     "iopub.status.busy": "2021-07-23T04:10:14.798997Z",
     "iopub.status.idle": "2021-07-23T04:10:14.808045Z",
     "shell.execute_reply": "2021-07-23T04:10:14.808560Z",
     "shell.execute_reply.started": "2021-07-23T03:29:34.481551Z"
    },
    "papermill": {
     "duration": 0.078391,
     "end_time": "2021-07-23T04:10:14.808720",
     "exception": false,
     "start_time": "2021-07-23T04:10:14.730329",
     "status": "completed"
    },
    "tags": []
   },
   "outputs": [
    {
     "data": {
      "text/plain": [
       "Invoice ID                 0\n",
       "Branch                     0\n",
       "City                       0\n",
       "Customer type              0\n",
       "Gender                     0\n",
       "Product line               0\n",
       "Unit price                 0\n",
       "Quantity                   0\n",
       "Tax 5%                     0\n",
       "Total                      0\n",
       "Date                       0\n",
       "Time                       0\n",
       "Payment                    0\n",
       "cogs                       0\n",
       "gross margin percentage    0\n",
       "gross income               0\n",
       "Rating                     0\n",
       "dtype: int64"
      ]
     },
     "execution_count": 138,
     "metadata": {},
     "output_type": "execute_result"
    }
   ],
   "source": [
    "df.isnull().sum()"
   ]
  },
  {
   "cell_type": "code",
   "execution_count": 139,
   "id": "853c1d44",
   "metadata": {},
   "outputs": [
    {
     "data": {
      "text/plain": [
       "False"
      ]
     },
     "execution_count": 139,
     "metadata": {},
     "output_type": "execute_result"
    }
   ],
   "source": [
    "df.isnull().values.any()"
   ]
  },
  {
   "cell_type": "markdown",
   "id": "cf96171e",
   "metadata": {
    "papermill": {
     "duration": 0.067551,
     "end_time": "2021-07-23T04:10:15.098463",
     "exception": false,
     "start_time": "2021-07-23T04:10:15.030912",
     "status": "completed"
    },
    "tags": []
   },
   "source": [
    "# **Exploratory Data Analysis**"
   ]
  },
  {
   "cell_type": "markdown",
   "id": "1502b564",
   "metadata": {
    "papermill": {
     "duration": 0.066186,
     "end_time": "2021-07-23T04:10:15.232437",
     "exception": false,
     "start_time": "2021-07-23T04:10:15.166251",
     "status": "completed"
    },
    "tags": []
   },
   "source": [
    "**HISTOGRAM**\n",
    "\n",
    "**A histogram is basically used to represent data provided in a form of some groups.It is accurate method for the graphical representation of numerical data distribution.It is a type of bar plot where X-axis represents the bin ranges while Y-axis gives information about frequency.**"
   ]
  },
  {
   "cell_type": "code",
   "execution_count": 140,
   "id": "569d6687",
   "metadata": {
    "execution": {
     "iopub.execute_input": "2021-07-23T04:10:15.372323Z",
     "iopub.status.busy": "2021-07-23T04:10:15.371629Z",
     "iopub.status.idle": "2021-07-23T04:10:16.669910Z",
     "shell.execute_reply": "2021-07-23T04:10:16.670458Z",
     "shell.execute_reply.started": "2021-07-23T03:29:34.516391Z"
    },
    "papermill": {
     "duration": 1.369329,
     "end_time": "2021-07-23T04:10:16.670647",
     "exception": false,
     "start_time": "2021-07-23T04:10:15.301318",
     "status": "completed"
    },
    "tags": []
   },
   "outputs": [
    {
     "data": {
      "image/png": "[encoded data removed]",
      "text/plain": [
       "<Figure size 2000x1400 with 9 Axes>"
      ]
     },
     "metadata": {},
     "output_type": "display_data"
    }
   ],
   "source": [
    "df.hist(figsize=(20,14))\n",
    "plt.show()\n"
   ]
  },
  {
   "cell_type": "markdown",
   "id": "1e02d987",
   "metadata": {
    "papermill": {
     "duration": 0.068615,
     "end_time": "2021-07-23T04:10:17.112991",
     "exception": false,
     "start_time": "2021-07-23T04:10:17.044376",
     "status": "completed"
    },
    "tags": []
   },
   "source": [
    "**HEATMAP**\n",
    "\n",
    "**A heatmap is a graphical representation of data that uses a system of color-coding to represent different values. Heatmaps are used in various forms of analytics but are most commonly used to show user behaviour on specific webpages or webpage templates.**\n"
   ]
  },
  {
   "cell_type": "code",
   "execution_count": 141,
   "id": "471d0c98",
   "metadata": {
    "execution": {
     "iopub.execute_input": "2021-07-23T04:10:17.254092Z",
     "iopub.status.busy": "2021-07-23T04:10:17.253441Z",
     "iopub.status.idle": "2021-07-23T04:10:17.838260Z",
     "shell.execute_reply": "2021-07-23T04:10:17.837661Z",
     "shell.execute_reply.started": "2021-07-23T03:29:35.826036Z"
    },
    "papermill": {
     "duration": 0.655582,
     "end_time": "2021-07-23T04:10:17.838415",
     "exception": false,
     "start_time": "2021-07-23T04:10:17.182833",
     "status": "completed"
    },
    "tags": []
   },
   "outputs": [
    {
     "data": {
      "text/plain": [
       "<AxesSubplot:>"
      ]
     },
     "execution_count": 141,
     "metadata": {},
     "output_type": "execute_result"
    },
    {
     "data": {
      "image/png": "[encoded data removed]",
      "text/plain": [
       "<Figure size 1200x1000 with 2 Axes>"
      ]
     },
     "metadata": {},
     "output_type": "display_data"
    }
   ],
   "source": [
    "plt.figure(figsize = (12,10))\n",
    "\n",
    "sns.heatmap(df.corr(), annot =True)\n",
    "\n"
   ]
  },
  {
   "cell_type": "code",
   "execution_count": 142,
   "id": "02891c8d",
   "metadata": {
    "execution": {
     "iopub.execute_input": "2021-07-23T04:10:17.985253Z",
     "iopub.status.busy": "2021-07-23T04:10:17.984354Z",
     "iopub.status.idle": "2021-07-23T04:10:17.989033Z",
     "shell.execute_reply": "2021-07-23T04:10:17.988348Z",
     "shell.execute_reply.started": "2021-07-23T03:29:36.463346Z"
    },
    "papermill": {
     "duration": 0.080777,
     "end_time": "2021-07-23T04:10:17.989185",
     "exception": false,
     "start_time": "2021-07-23T04:10:17.908408",
     "status": "completed"
    },
    "tags": []
   },
   "outputs": [
    {
     "data": {
      "text/plain": [
       "Index(['Invoice ID', 'Branch', 'City', 'Customer type', 'Gender',\n",
       "       'Product line', 'Unit price', 'Quantity', 'Tax 5%', 'Total', 'Date',\n",
       "       'Time', 'Payment', 'cogs', 'gross margin percentage', 'gross income',\n",
       "       'Rating'],\n",
       "      dtype='object')"
      ]
     },
     "execution_count": 142,
     "metadata": {},
     "output_type": "execute_result"
    }
   ],
   "source": [
    "df.columns"
   ]
  },
  {
   "cell_type": "markdown",
   "id": "cc17ec0d",
   "metadata": {
    "papermill": {
     "duration": 0.073396,
     "end_time": "2021-07-23T04:10:18.137991",
     "exception": false,
     "start_time": "2021-07-23T04:10:18.064595",
     "status": "completed"
    },
    "tags": []
   },
   "source": [
    "**BOXPLOT**\n",
    "\n",
    "**A boxplot is a standardized way of displaying the distribution of data based on a five number summary (“minimum”, first quartile (Q1), median, third quartile (Q3), and “maximum”). ... It can also tell you if your data is symmetrical, how tightly your data is grouped, and if and how your data is skewed.**\n",
    "\n"
   ]
  },
  {
   "cell_type": "code",
   "execution_count": 143,
   "id": "ec4dd9ae",
   "metadata": {
    "execution": {
     "iopub.execute_input": "2021-07-23T04:10:18.311022Z",
     "iopub.status.busy": "2021-07-23T04:10:18.294762Z",
     "iopub.status.idle": "2021-07-23T04:10:19.311817Z",
     "shell.execute_reply": "2021-07-23T04:10:19.311199Z",
     "shell.execute_reply.started": "2021-07-23T03:29:36.471031Z"
    },
    "papermill": {
     "duration": 1.101319,
     "end_time": "2021-07-23T04:10:19.312026",
     "exception": false,
     "start_time": "2021-07-23T04:10:18.210707",
     "status": "completed"
    },
    "tags": []
   },
   "outputs": [
    {
     "data": {
      "text/plain": [
       "<AxesSubplot:xlabel='gross income'>"
      ]
     },
     "execution_count": 143,
     "metadata": {},
     "output_type": "execute_result"
    },
    {
     "data": {
      "image/png": "[encoded data removed]",
      "text/plain": [
       "<Figure size 1400x1000 with 6 Axes>"
      ]
     },
     "metadata": {},
     "output_type": "display_data"
    }
   ],
   "source": [
    "plt.figure(figsize=(14,10))\n",
    "sns.set_style(style='whitegrid')\n",
    "plt.subplot(2,3,1)\n",
    "sns.boxplot(x='Unit price',data=df)\n",
    "plt.subplot(2,3,2)\n",
    "sns.boxplot(x='Quantity',data=df)\n",
    "plt.subplot(2,3,3)\n",
    "sns.boxplot(x='Total',data=df)\n",
    "plt.subplot(2,3,4)\n",
    "sns.boxplot(x='cogs',data=df)\n",
    "plt.subplot(2,3,5)\n",
    "sns.boxplot(x='Rating',data=df)\n",
    "plt.subplot(2,3,6)\n",
    "sns.boxplot(x='gross income',data=df)\n",
    "\n",
    "\n"
   ]
  },
  {
   "cell_type": "markdown",
   "id": "05d5e0f2",
   "metadata": {
    "papermill": {
     "duration": 0.098297,
     "end_time": "2021-07-23T04:10:34.487849",
     "exception": false,
     "start_time": "2021-07-23T04:10:34.389552",
     "status": "completed"
    },
    "tags": []
   },
   "source": [
    "**SCATTER PLOT**\n",
    "\n",
    "**A scatter plot (aka scatter chart, scatter graph) uses dots to represent values for two different numeric variables. The position of each dot on the horizontal and vertical axis indicates values for an individual data point. Scatter plots are used to observe relationships between variables.**\n",
    "\n"
   ]
  },
  {
   "cell_type": "code",
   "execution_count": 144,
   "id": "c1615ebc",
   "metadata": {
    "execution": {
     "iopub.execute_input": "2021-07-23T04:10:34.686599Z",
     "iopub.status.busy": "2021-07-23T04:10:34.685636Z",
     "iopub.status.idle": "2021-07-23T04:10:35.125588Z",
     "shell.execute_reply": "2021-07-23T04:10:35.125060Z",
     "shell.execute_reply.started": "2021-07-23T03:29:51.667313Z"
    },
    "papermill": {
     "duration": 0.539902,
     "end_time": "2021-07-23T04:10:35.125722",
     "exception": false,
     "start_time": "2021-07-23T04:10:34.585820",
     "status": "completed"
    },
    "tags": []
   },
   "outputs": [
    {
     "data": {
      "text/plain": [
       "<AxesSubplot:xlabel='Rating', ylabel='cogs'>"
      ]
     },
     "execution_count": 144,
     "metadata": {},
     "output_type": "execute_result"
    },
    {
     "data": {
      "image/png": "[encoded data removed]",
      "text/plain": [
       "<Figure size 640x480 with 1 Axes>"
      ]
     },
     "metadata": {},
     "output_type": "display_data"
    }
   ],
   "source": [
    "sns.scatterplot(x='Rating', y= 'cogs', data=df)"
   ]
  },
  {
   "cell_type": "code",
   "execution_count": 149,
   "id": "6c6f36d4",
   "metadata": {
    "execution": {
     "iopub.execute_input": "2021-07-23T04:10:41.071008Z",
     "iopub.status.busy": "2021-07-23T04:10:41.070138Z",
     "iopub.status.idle": "2021-07-23T04:10:41.075356Z",
     "shell.execute_reply": "2021-07-23T04:10:41.074660Z",
     "shell.execute_reply.started": "2021-07-23T03:29:56.662508Z"
    },
    "papermill": {
     "duration": 0.118039,
     "end_time": "2021-07-23T04:10:41.075506",
     "exception": false,
     "start_time": "2021-07-23T04:10:40.957467",
     "status": "completed"
    },
    "tags": []
   },
   "outputs": [
    {
     "data": {
      "text/plain": [
       "Index(['Invoice ID', 'Branch', 'City', 'Customer type', 'Gender',\n",
       "       'Product line', 'Unit price', 'Quantity', 'Tax 5%', 'Total', 'Date',\n",
       "       'Time', 'Payment', 'cogs', 'gross margin percentage', 'gross income',\n",
       "       'Rating'],\n",
       "      dtype='object')"
      ]
     },
     "execution_count": 149,
     "metadata": {},
     "output_type": "execute_result"
    }
   ],
   "source": [
    "df.columns"
   ]
  },
  {
   "cell_type": "markdown",
   "id": "eaa1b63a",
   "metadata": {
    "papermill": {
     "duration": 0.116799,
     "end_time": "2021-07-23T04:10:45.571026",
     "exception": false,
     "start_time": "2021-07-23T04:10:45.454227",
     "status": "completed"
    },
    "tags": []
   },
   "source": [
    "**BARPLOT**\n",
    "\n",
    "**A barplot (or barchart) is one of the most common types of graphic. It shows the relationship between a numeric and a categoric variable. Each entity of the categoric variable is represented as a bar. The size of the bar represents its numeric value.**\n"
   ]
  },
  {
   "cell_type": "code",
   "execution_count": 150,
   "id": "1ccb99ce",
   "metadata": {
    "execution": {
     "iopub.execute_input": "2021-07-23T04:10:45.836550Z",
     "iopub.status.busy": "2021-07-23T04:10:45.833505Z",
     "iopub.status.idle": "2021-07-23T04:10:45.995425Z",
     "shell.execute_reply": "2021-07-23T04:10:45.995875Z",
     "shell.execute_reply.started": "2021-07-23T03:29:59.952190Z"
    },
    "papermill": {
     "duration": 0.311295,
     "end_time": "2021-07-23T04:10:45.996046",
     "exception": false,
     "start_time": "2021-07-23T04:10:45.684751",
     "status": "completed"
    },
    "tags": []
   },
   "outputs": [
    {
     "data": {
      "image/png": "[encoded data removed]",
      "text/plain": [
       "<Figure size 500x500 with 1 Axes>"
      ]
     },
     "metadata": {},
     "output_type": "display_data"
    }
   ],
   "source": [
    "plt.style.use(\"default\")\n",
    "plt.figure(figsize=(5,5))\n",
    "sns.barplot(x=\"Rating\", y=\"Unit price\", data=df[170:180])\n",
    "plt.title(\"Rating vs Unit Price\",fontsize=15)\n",
    "plt.xlabel(\"Rating\")\n",
    "plt.ylabel(\"Unit Price\")\n",
    "plt.show()\n"
   ]
  },
  {
   "cell_type": "code",
   "execution_count": 151,
   "id": "39fa9def",
   "metadata": {
    "execution": {
     "iopub.execute_input": "2021-07-23T04:10:46.231017Z",
     "iopub.status.busy": "2021-07-23T04:10:46.230017Z",
     "iopub.status.idle": "2021-07-23T04:10:46.234764Z",
     "shell.execute_reply": "2021-07-23T04:10:46.234101Z",
     "shell.execute_reply.started": "2021-07-23T03:30:00.151711Z"
    },
    "papermill": {
     "duration": 0.124835,
     "end_time": "2021-07-23T04:10:46.234911",
     "exception": false,
     "start_time": "2021-07-23T04:10:46.110076",
     "status": "completed"
    },
    "tags": []
   },
   "outputs": [
    {
     "data": {
      "text/plain": [
       "Index(['Invoice ID', 'Branch', 'City', 'Customer type', 'Gender',\n",
       "       'Product line', 'Unit price', 'Quantity', 'Tax 5%', 'Total', 'Date',\n",
       "       'Time', 'Payment', 'cogs', 'gross margin percentage', 'gross income',\n",
       "       'Rating'],\n",
       "      dtype='object')"
      ]
     },
     "execution_count": 151,
     "metadata": {},
     "output_type": "execute_result"
    }
   ],
   "source": [
    "df.columns"
   ]
  },
  {
   "cell_type": "code",
   "execution_count": 152,
   "id": "780f452e",
   "metadata": {
    "execution": {
     "iopub.execute_input": "2021-07-23T04:10:46.484358Z",
     "iopub.status.busy": "2021-07-23T04:10:46.483293Z",
     "iopub.status.idle": "2021-07-23T04:10:46.625902Z",
     "shell.execute_reply": "2021-07-23T04:10:46.625258Z",
     "shell.execute_reply.started": "2021-07-23T03:30:00.160978Z"
    },
    "papermill": {
     "duration": 0.27564,
     "end_time": "2021-07-23T04:10:46.626042",
     "exception": false,
     "start_time": "2021-07-23T04:10:46.350402",
     "status": "completed"
    },
    "tags": []
   },
   "outputs": [
    {
     "data": {
      "image/png": "[encoded data removed]",
      "text/plain": [
       "<Figure size 500x500 with 1 Axes>"
      ]
     },
     "metadata": {},
     "output_type": "display_data"
    }
   ],
   "source": [
    "plt.style.use(\"default\")\n",
    "plt.figure(figsize=(5,5))\n",
    "sns.barplot(x=\"Rating\", y=\"Gender\", data=df[170:180])\n",
    "plt.title(\"Rating vs Gender\",fontsize=15)\n",
    "plt.xlabel(\"Rating\")\n",
    "plt.ylabel(\"Gender\")\n",
    "plt.show()"
   ]
  },
  {
   "cell_type": "code",
   "execution_count": 154,
   "id": "efe7c3a4",
   "metadata": {
    "execution": {
     "iopub.execute_input": "2021-07-23T04:10:46.901334Z",
     "iopub.status.busy": "2021-07-23T04:10:46.895116Z",
     "iopub.status.idle": "2021-07-23T04:10:47.056559Z",
     "shell.execute_reply": "2021-07-23T04:10:47.055904Z",
     "shell.execute_reply.started": "2021-07-23T03:30:00.321370Z"
    },
    "papermill": {
     "duration": 0.314601,
     "end_time": "2021-07-23T04:10:47.056702",
     "exception": false,
     "start_time": "2021-07-23T04:10:46.742101",
     "status": "completed"
    },
    "tags": []
   },
   "outputs": [
    {
     "data": {
      "image/png": "[encoded data removed]",
      "text/plain": [
       "<Figure size 500x500 with 1 Axes>"
      ]
     },
     "metadata": {},
     "output_type": "display_data"
    }
   ],
   "source": [
    "plt.style.use(\"default\")\n",
    "plt.figure(figsize=(5,5))\n",
    "sns.barplot(x=\"Rating\", y=\"Quantity\", data=df[170:180])\n",
    "plt.title(\"Rating vs Quantity\",fontsize=15)\n",
    "plt.xlabel(\"Rating\")\n",
    "plt.ylabel(\"Quantity\")\n",
    "plt.show()"
   ]
  },
  {
   "cell_type": "code",
   "execution_count": 155,
   "id": "7c896825",
   "metadata": {
    "execution": {
     "iopub.execute_input": "2021-07-23T04:10:47.297425Z",
     "iopub.status.busy": "2021-07-23T04:10:47.296756Z",
     "iopub.status.idle": "2021-07-23T04:10:47.298544Z",
     "shell.execute_reply": "2021-07-23T04:10:47.299071Z",
     "shell.execute_reply.started": "2021-07-23T03:30:00.521191Z"
    },
    "papermill": {
     "duration": 0.123683,
     "end_time": "2021-07-23T04:10:47.299245",
     "exception": false,
     "start_time": "2021-07-23T04:10:47.175562",
     "status": "completed"
    },
    "tags": []
   },
   "outputs": [],
   "source": [
    "#lets find the categorialfeatures\n",
    "list_1=list(df.columns)\n"
   ]
  },
  {
   "cell_type": "code",
   "execution_count": 156,
   "id": "6fd4d1d0",
   "metadata": {
    "execution": {
     "iopub.execute_input": "2021-07-23T04:10:47.535374Z",
     "iopub.status.busy": "2021-07-23T04:10:47.534647Z",
     "iopub.status.idle": "2021-07-23T04:10:47.539647Z",
     "shell.execute_reply": "2021-07-23T04:10:47.540269Z",
     "shell.execute_reply.started": "2021-07-23T03:30:00.527390Z"
    },
    "papermill": {
     "duration": 0.124909,
     "end_time": "2021-07-23T04:10:47.540450",
     "exception": false,
     "start_time": "2021-07-23T04:10:47.415541",
     "status": "completed"
    },
    "tags": []
   },
   "outputs": [],
   "source": [
    "list_cate=[]\n",
    "for i in list_1:\n",
    "    if df[i].dtype=='object':\n",
    "        list_cate.append(i)\n"
   ]
  },
  {
   "cell_type": "code",
   "execution_count": 157,
   "id": "b5cd7deb",
   "metadata": {
    "execution": {
     "iopub.execute_input": "2021-07-23T04:10:47.776298Z",
     "iopub.status.busy": "2021-07-23T04:10:47.775535Z",
     "iopub.status.idle": "2021-07-23T04:10:47.931457Z",
     "shell.execute_reply": "2021-07-23T04:10:47.930721Z",
     "shell.execute_reply.started": "2021-07-23T03:30:00.541159Z"
    },
    "papermill": {
     "duration": 0.274712,
     "end_time": "2021-07-23T04:10:47.931611",
     "exception": false,
     "start_time": "2021-07-23T04:10:47.656899",
     "status": "completed"
    },
    "tags": []
   },
   "outputs": [],
   "source": [
    "from sklearn.preprocessing import LabelEncoder\n",
    "le=LabelEncoder()\n"
   ]
  },
  {
   "cell_type": "code",
   "execution_count": 158,
   "id": "f535e8fa",
   "metadata": {
    "execution": {
     "iopub.execute_input": "2021-07-23T04:10:48.172288Z",
     "iopub.status.busy": "2021-07-23T04:10:48.171616Z",
     "iopub.status.idle": "2021-07-23T04:10:48.182851Z",
     "shell.execute_reply": "2021-07-23T04:10:48.183422Z",
     "shell.execute_reply.started": "2021-07-23T03:30:00.685392Z"
    },
    "papermill": {
     "duration": 0.133506,
     "end_time": "2021-07-23T04:10:48.183601",
     "exception": false,
     "start_time": "2021-07-23T04:10:48.050095",
     "status": "completed"
    },
    "tags": []
   },
   "outputs": [],
   "source": [
    "for i in list_cate:\n",
    "    df[i]=le.fit_transform(df[i])\n"
   ]
  },
  {
   "cell_type": "code",
   "execution_count": 159,
   "id": "0a0b107d",
   "metadata": {
    "execution": {
     "iopub.execute_input": "2021-07-23T04:10:48.423985Z",
     "iopub.status.busy": "2021-07-23T04:10:48.423320Z",
     "iopub.status.idle": "2021-07-23T04:10:48.453851Z",
     "shell.execute_reply": "2021-07-23T04:10:48.454438Z",
     "shell.execute_reply.started": "2021-07-23T03:30:00.699396Z"
    },
    "papermill": {
     "duration": 0.152257,
     "end_time": "2021-07-23T04:10:48.454615",
     "exception": false,
     "start_time": "2021-07-23T04:10:48.302358",
     "status": "completed"
    },
    "tags": []
   },
   "outputs": [
    {
     "data": {
      "text/html": [
       "<div>\n",
       "<style scoped>\n",
       "    .dataframe tbody tr th:only-of-type {\n",
       "        vertical-align: middle;\n",
       "    }\n",
       "\n",
       "    .dataframe tbody tr th {\n",
       "        vertical-align: top;\n",
       "    }\n",
       "\n",
       "    .dataframe thead th {\n",
       "        text-align: right;\n",
       "    }\n",
       "</style>\n",
       "<table border=\"1\" class=\"dataframe\">\n",
       "  <thead>\n",
       "    <tr style=\"text-align: right;\">\n",
       "      <th></th>\n",
       "      <th>Invoice ID</th>\n",
       "      <th>Branch</th>\n",
       "      <th>City</th>\n",
       "      <th>Customer type</th>\n",
       "      <th>Gender</th>\n",
       "      <th>Product line</th>\n",
       "      <th>Unit price</th>\n",
       "      <th>Quantity</th>\n",
       "      <th>Tax 5%</th>\n",
       "      <th>Total</th>\n",
       "      <th>Date</th>\n",
       "      <th>Time</th>\n",
       "      <th>Payment</th>\n",
       "      <th>cogs</th>\n",
       "      <th>gross margin percentage</th>\n",
       "      <th>gross income</th>\n",
       "      <th>Rating</th>\n",
       "    </tr>\n",
       "  </thead>\n",
       "  <tbody>\n",
       "    <tr>\n",
       "      <th>0</th>\n",
       "      <td>814</td>\n",
       "      <td>0</td>\n",
       "      <td>2</td>\n",
       "      <td>0</td>\n",
       "      <td>0</td>\n",
       "      <td>3</td>\n",
       "      <td>74.69</td>\n",
       "      <td>7</td>\n",
       "      <td>26.1415</td>\n",
       "      <td>548.9715</td>\n",
       "      <td>26</td>\n",
       "      <td>146</td>\n",
       "      <td>2</td>\n",
       "      <td>522.83</td>\n",
       "      <td>4.761905</td>\n",
       "      <td>26.1415</td>\n",
       "      <td>9.1</td>\n",
       "    </tr>\n",
       "    <tr>\n",
       "      <th>1</th>\n",
       "      <td>142</td>\n",
       "      <td>2</td>\n",
       "      <td>1</td>\n",
       "      <td>1</td>\n",
       "      <td>0</td>\n",
       "      <td>0</td>\n",
       "      <td>15.28</td>\n",
       "      <td>5</td>\n",
       "      <td>3.8200</td>\n",
       "      <td>80.2200</td>\n",
       "      <td>87</td>\n",
       "      <td>23</td>\n",
       "      <td>0</td>\n",
       "      <td>76.40</td>\n",
       "      <td>4.761905</td>\n",
       "      <td>3.8200</td>\n",
       "      <td>9.6</td>\n",
       "    </tr>\n",
       "    <tr>\n",
       "      <th>2</th>\n",
       "      <td>653</td>\n",
       "      <td>0</td>\n",
       "      <td>2</td>\n",
       "      <td>1</td>\n",
       "      <td>1</td>\n",
       "      <td>4</td>\n",
       "      <td>46.33</td>\n",
       "      <td>7</td>\n",
       "      <td>16.2155</td>\n",
       "      <td>340.5255</td>\n",
       "      <td>81</td>\n",
       "      <td>155</td>\n",
       "      <td>1</td>\n",
       "      <td>324.31</td>\n",
       "      <td>4.761905</td>\n",
       "      <td>16.2155</td>\n",
       "      <td>7.4</td>\n",
       "    </tr>\n",
       "    <tr>\n",
       "      <th>3</th>\n",
       "      <td>18</td>\n",
       "      <td>0</td>\n",
       "      <td>2</td>\n",
       "      <td>0</td>\n",
       "      <td>1</td>\n",
       "      <td>3</td>\n",
       "      <td>58.22</td>\n",
       "      <td>8</td>\n",
       "      <td>23.2880</td>\n",
       "      <td>489.0480</td>\n",
       "      <td>19</td>\n",
       "      <td>485</td>\n",
       "      <td>2</td>\n",
       "      <td>465.76</td>\n",
       "      <td>4.761905</td>\n",
       "      <td>23.2880</td>\n",
       "      <td>8.4</td>\n",
       "    </tr>\n",
       "    <tr>\n",
       "      <th>4</th>\n",
       "      <td>339</td>\n",
       "      <td>0</td>\n",
       "      <td>2</td>\n",
       "      <td>1</td>\n",
       "      <td>1</td>\n",
       "      <td>5</td>\n",
       "      <td>86.31</td>\n",
       "      <td>7</td>\n",
       "      <td>30.2085</td>\n",
       "      <td>634.3785</td>\n",
       "      <td>57</td>\n",
       "      <td>29</td>\n",
       "      <td>2</td>\n",
       "      <td>604.17</td>\n",
       "      <td>4.761905</td>\n",
       "      <td>30.2085</td>\n",
       "      <td>5.3</td>\n",
       "    </tr>\n",
       "    <tr>\n",
       "      <th>...</th>\n",
       "      <td>...</td>\n",
       "      <td>...</td>\n",
       "      <td>...</td>\n",
       "      <td>...</td>\n",
       "      <td>...</td>\n",
       "      <td>...</td>\n",
       "      <td>...</td>\n",
       "      <td>...</td>\n",
       "      <td>...</td>\n",
       "      <td>...</td>\n",
       "      <td>...</td>\n",
       "      <td>...</td>\n",
       "      <td>...</td>\n",
       "      <td>...</td>\n",
       "      <td>...</td>\n",
       "      <td>...</td>\n",
       "      <td>...</td>\n",
       "    </tr>\n",
       "    <tr>\n",
       "      <th>995</th>\n",
       "      <td>153</td>\n",
       "      <td>2</td>\n",
       "      <td>1</td>\n",
       "      <td>1</td>\n",
       "      <td>1</td>\n",
       "      <td>3</td>\n",
       "      <td>40.35</td>\n",
       "      <td>1</td>\n",
       "      <td>2.0175</td>\n",
       "      <td>42.3675</td>\n",
       "      <td>21</td>\n",
       "      <td>174</td>\n",
       "      <td>2</td>\n",
       "      <td>40.35</td>\n",
       "      <td>4.761905</td>\n",
       "      <td>2.0175</td>\n",
       "      <td>6.2</td>\n",
       "    </tr>\n",
       "    <tr>\n",
       "      <th>996</th>\n",
       "      <td>250</td>\n",
       "      <td>1</td>\n",
       "      <td>0</td>\n",
       "      <td>1</td>\n",
       "      <td>0</td>\n",
       "      <td>4</td>\n",
       "      <td>97.38</td>\n",
       "      <td>10</td>\n",
       "      <td>48.6900</td>\n",
       "      <td>1022.4900</td>\n",
       "      <td>70</td>\n",
       "      <td>342</td>\n",
       "      <td>2</td>\n",
       "      <td>973.80</td>\n",
       "      <td>4.761905</td>\n",
       "      <td>48.6900</td>\n",
       "      <td>4.4</td>\n",
       "    </tr>\n",
       "    <tr>\n",
       "      <th>997</th>\n",
       "      <td>767</td>\n",
       "      <td>0</td>\n",
       "      <td>2</td>\n",
       "      <td>0</td>\n",
       "      <td>1</td>\n",
       "      <td>2</td>\n",
       "      <td>31.84</td>\n",
       "      <td>1</td>\n",
       "      <td>1.5920</td>\n",
       "      <td>33.4320</td>\n",
       "      <td>58</td>\n",
       "      <td>154</td>\n",
       "      <td>0</td>\n",
       "      <td>31.84</td>\n",
       "      <td>4.761905</td>\n",
       "      <td>1.5920</td>\n",
       "      <td>7.7</td>\n",
       "    </tr>\n",
       "    <tr>\n",
       "      <th>998</th>\n",
       "      <td>308</td>\n",
       "      <td>0</td>\n",
       "      <td>2</td>\n",
       "      <td>1</td>\n",
       "      <td>1</td>\n",
       "      <td>4</td>\n",
       "      <td>65.82</td>\n",
       "      <td>1</td>\n",
       "      <td>3.2910</td>\n",
       "      <td>69.1110</td>\n",
       "      <td>45</td>\n",
       "      <td>261</td>\n",
       "      <td>0</td>\n",
       "      <td>65.82</td>\n",
       "      <td>4.761905</td>\n",
       "      <td>3.2910</td>\n",
       "      <td>4.1</td>\n",
       "    </tr>\n",
       "    <tr>\n",
       "      <th>999</th>\n",
       "      <td>935</td>\n",
       "      <td>0</td>\n",
       "      <td>2</td>\n",
       "      <td>0</td>\n",
       "      <td>0</td>\n",
       "      <td>1</td>\n",
       "      <td>88.34</td>\n",
       "      <td>7</td>\n",
       "      <td>30.9190</td>\n",
       "      <td>649.2990</td>\n",
       "      <td>40</td>\n",
       "      <td>160</td>\n",
       "      <td>0</td>\n",
       "      <td>618.38</td>\n",
       "      <td>4.761905</td>\n",
       "      <td>30.9190</td>\n",
       "      <td>6.6</td>\n",
       "    </tr>\n",
       "  </tbody>\n",
       "</table>\n",
       "<p>1000 rows × 17 columns</p>\n",
       "</div>"
      ],
      "text/plain": [
       "     Invoice ID  Branch  City  Customer type  Gender  Product line  \\\n",
       "0           814       0     2              0       0             3   \n",
       "1           142       2     1              1       0             0   \n",
       "2           653       0     2              1       1             4   \n",
       "3            18       0     2              0       1             3   \n",
       "4           339       0     2              1       1             5   \n",
       "..          ...     ...   ...            ...     ...           ...   \n",
       "995         153       2     1              1       1             3   \n",
       "996         250       1     0              1       0             4   \n",
       "997         767       0     2              0       1             2   \n",
       "998         308       0     2              1       1             4   \n",
       "999         935       0     2              0       0             1   \n",
       "\n",
       "     Unit price  Quantity   Tax 5%      Total  Date  Time  Payment    cogs  \\\n",
       "0         74.69         7  26.1415   548.9715    26   146        2  522.83   \n",
       "1         15.28         5   3.8200    80.2200    87    23        0   76.40   \n",
       "2         46.33         7  16.2155   340.5255    81   155        1  324.31   \n",
       "3         58.22         8  23.2880   489.0480    19   485        2  465.76   \n",
       "4         86.31         7  30.2085   634.3785    57    29        2  604.17   \n",
       "..          ...       ...      ...        ...   ...   ...      ...     ...   \n",
       "995       40.35         1   2.0175    42.3675    21   174        2   40.35   \n",
       "996       97.38        10  48.6900  1022.4900    70   342        2  973.80   \n",
       "997       31.84         1   1.5920    33.4320    58   154        0   31.84   \n",
       "998       65.82         1   3.2910    69.1110    45   261        0   65.82   \n",
       "999       88.34         7  30.9190   649.2990    40   160        0  618.38   \n",
       "\n",
       "     gross margin percentage  gross income  Rating  \n",
       "0                   4.761905       26.1415     9.1  \n",
       "1                   4.761905        3.8200     9.6  \n",
       "2                   4.761905       16.2155     7.4  \n",
       "3                   4.761905       23.2880     8.4  \n",
       "4                   4.761905       30.2085     5.3  \n",
       "..                       ...           ...     ...  \n",
       "995                 4.761905        2.0175     6.2  \n",
       "996                 4.761905       48.6900     4.4  \n",
       "997                 4.761905        1.5920     7.7  \n",
       "998                 4.761905        3.2910     4.1  \n",
       "999                 4.761905       30.9190     6.6  \n",
       "\n",
       "[1000 rows x 17 columns]"
      ]
     },
     "execution_count": 159,
     "metadata": {},
     "output_type": "execute_result"
    }
   ],
   "source": [
    "df"
   ]
  },
  {
   "cell_type": "code",
   "execution_count": 160,
   "id": "a9bb894f",
   "metadata": {
    "execution": {
     "iopub.execute_input": "2021-07-23T04:10:48.699127Z",
     "iopub.status.busy": "2021-07-23T04:10:48.698430Z",
     "iopub.status.idle": "2021-07-23T04:10:48.703909Z",
     "shell.execute_reply": "2021-07-23T04:10:48.704531Z",
     "shell.execute_reply.started": "2021-07-23T03:30:00.744156Z"
    },
    "papermill": {
     "duration": 0.129041,
     "end_time": "2021-07-23T04:10:48.704707",
     "exception": false,
     "start_time": "2021-07-23T04:10:48.575666",
     "status": "completed"
    },
    "tags": []
   },
   "outputs": [],
   "source": [
    "y=df['Gender']\n",
    "x=df.drop('Gender',axis=1)\n"
   ]
  },
  {
   "cell_type": "markdown",
   "id": "bae374f8",
   "metadata": {
    "papermill": {
     "duration": 0.117838,
     "end_time": "2021-07-23T04:10:48.940683",
     "exception": false,
     "start_time": "2021-07-23T04:10:48.822845",
     "status": "completed"
    },
    "tags": []
   },
   "source": [
    "# TRAINING AND TESTING DATA"
   ]
  },
  {
   "cell_type": "code",
   "execution_count": 627,
   "id": "83199774",
   "metadata": {
    "execution": {
     "iopub.execute_input": "2021-07-23T04:10:49.184193Z",
     "iopub.status.busy": "2021-07-23T04:10:49.183379Z",
     "iopub.status.idle": "2021-07-23T04:10:49.245980Z",
     "shell.execute_reply": "2021-07-23T04:10:49.245401Z",
     "shell.execute_reply.started": "2021-07-23T03:30:00.752435Z"
    },
    "papermill": {
     "duration": 0.18592,
     "end_time": "2021-07-23T04:10:49.246145",
     "exception": false,
     "start_time": "2021-07-23T04:10:49.060225",
     "status": "completed"
    },
    "tags": []
   },
   "outputs": [],
   "source": [
    "from sklearn.model_selection import train_test_split\n",
    "x_train,x_test,y_train,y_test=train_test_split(x,y,random_state=0,test_size=0.25)"
   ]
  },
  {
   "cell_type": "code",
   "execution_count": 628,
   "id": "91a68b35",
   "metadata": {
    "execution": {
     "iopub.execute_input": "2021-07-23T04:10:49.485560Z",
     "iopub.status.busy": "2021-07-23T04:10:49.484949Z",
     "iopub.status.idle": "2021-07-23T04:10:49.491060Z",
     "shell.execute_reply": "2021-07-23T04:10:49.491693Z",
     "shell.execute_reply.started": "2021-07-23T03:30:00.831036Z"
    },
    "papermill": {
     "duration": 0.127007,
     "end_time": "2021-07-23T04:10:49.491887",
     "exception": false,
     "start_time": "2021-07-23T04:10:49.364880",
     "status": "completed"
    },
    "tags": []
   },
   "outputs": [
    {
     "name": "stdout",
     "output_type": "stream",
     "text": [
      "750\n",
      "250\n",
      "750\n",
      "250\n"
     ]
    }
   ],
   "source": [
    "print(len(x_train))\n",
    "print(len(x_test))\n",
    "print(len(y_train))\n",
    "print(len(y_test))"
   ]
  },
  {
   "cell_type": "markdown",
   "id": "38d3ec21",
   "metadata": {},
   "source": [
    "# MODELS"
   ]
  },
  {
   "cell_type": "code",
   "execution_count": 629,
   "id": "be0b6352",
   "metadata": {},
   "outputs": [],
   "source": [
    "from sklearn.linear_model import LogisticRegression\n",
    "from sklearn.tree import DecisionTreeClassifier\n",
    "from sklearn.svm import SVC\n",
    "from sklearn.neighbors import KNeighborsClassifier\n",
    "from sklearn.naive_bayes import GaussianNB"
   ]
  },
  {
   "cell_type": "markdown",
   "id": "ec36473a",
   "metadata": {},
   "source": [
    "**1. Logistic Regression**\n",
    "\n",
    "**Logistic Regression is a simple yet powerful machine learning algorithm used for binary classification tasks. It estimates the probability of an instance belonging to one of two classes based on input features.**"
   ]
  },
  {
   "cell_type": "code",
   "execution_count": 630,
   "id": "37ddf7e6",
   "metadata": {},
   "outputs": [
    {
     "name": "stderr",
     "output_type": "stream",
     "text": [
      "C:\\ProgramData\\Anaconda3\\lib\\site-packages\\sklearn\\linear_model\\_logistic.py:814: ConvergenceWarning: lbfgs failed to converge (status=1):\n",
      "STOP: TOTAL NO. of ITERATIONS REACHED LIMIT.\n",
      "\n",
      "Increase the number of iterations (max_iter) or scale the data as shown in:\n",
      "    https://scikit-learn.org/stable/modules/preprocessing.html\n",
      "Please also refer to the documentation for alternative solver options:\n",
      "    https://scikit-learn.org/stable/modules/linear_model.html#logistic-regression\n",
      "  n_iter_i = _check_optimize_result(\n"
     ]
    },
    {
     "data": {
      "text/plain": [
       "LogisticRegression(random_state=5)"
      ]
     },
     "execution_count": 630,
     "metadata": {},
     "output_type": "execute_result"
    }
   ],
   "source": [
    "lm = LogisticRegression(random_state=5)\n",
    "lm.fit(xtrain, ytrain)"
   ]
  },
  {
   "cell_type": "markdown",
   "id": "b1681d39",
   "metadata": {},
   "source": [
    "**Prediction**"
   ]
  },
  {
   "cell_type": "code",
   "execution_count": 631,
   "id": "c3ca1477",
   "metadata": {},
   "outputs": [
    {
     "name": "stdout",
     "output_type": "stream",
     "text": [
      "[1 0 1 0 1 0 1 0 0 1 0 1 0 1 1 0 0 1 1 0 0 0 0 1 1 0 0 1 0 0 1 1 0 1 1 0 0\n",
      " 0 1 0 1 0 0 0 0 0 0 0 0 1 1 0 1 1 0 1 0 1 0 1 1 0 0 0 1 1 1 0 1 1 0 1 0 0\n",
      " 1 0 0 1 1 0 1 0 0 0 0 0 0 0 0 1 1 1 0 1 0 1 0 0 0 0 0 0 1 1 0 1 1 1 0 1 0\n",
      " 0 0 0 0 1 1 0 0 0 0 1 0 1 1 1 1 1 1 1 0 0 1 0 1 1 0 1 1 1 0 1 0 0 0 1 1 1\n",
      " 1 0 1 1 0 0 1 1 0 1 1 0 0 1 1 0 0 1 0 1 0 1 0 1 1 0 1 0 0 1 1 1 0 0 1 1 0\n",
      " 1 0 0 1 0 0 0 1 1 1 0 1 1 0 1 0 1 1 1 1 1 0 1 1 1 1 0 0 0 0 1 0 0 1 1 1 1\n",
      " 1 1 1 0 0 1 1 0 0 1 0 1 0 1 1 1 0 0 0 0 0 0 0 0 0 1 0 1 0 1 1 0 0 0 1 0 0\n",
      " 0 1 0 1 0 1 0 1 0 1 1 1 0 0 1 1 0 0 0 0 0 0 1 0 1 1 0 0 0 1 0 0 1 0 1 0 0\n",
      " 1 0 0 1 0 0 1 0 1 0 1 1 0 0 1 1 1 0 1 0 1 1 0 0 1 0 1 0 0 0 0 1 0 0]\n"
     ]
    }
   ],
   "source": [
    "ypred_train = lm.predict(xtrain)\n",
    "ypred_test = lm.predict(xtest)\n",
    "print(ypred_test)"
   ]
  },
  {
   "cell_type": "code",
   "execution_count": 632,
   "id": "00642480",
   "metadata": {},
   "outputs": [
    {
     "data": {
      "text/html": [
       "<div>\n",
       "<style scoped>\n",
       "    .dataframe tbody tr th:only-of-type {\n",
       "        vertical-align: middle;\n",
       "    }\n",
       "\n",
       "    .dataframe tbody tr th {\n",
       "        vertical-align: top;\n",
       "    }\n",
       "\n",
       "    .dataframe thead th {\n",
       "        text-align: right;\n",
       "    }\n",
       "</style>\n",
       "<table border=\"1\" class=\"dataframe\">\n",
       "  <thead>\n",
       "    <tr style=\"text-align: right;\">\n",
       "      <th></th>\n",
       "      <th>0</th>\n",
       "    </tr>\n",
       "    <tr>\n",
       "      <th>Gender</th>\n",
       "      <th></th>\n",
       "    </tr>\n",
       "  </thead>\n",
       "  <tbody>\n",
       "    <tr>\n",
       "      <th>1</th>\n",
       "      <td>1</td>\n",
       "    </tr>\n",
       "    <tr>\n",
       "      <th>0</th>\n",
       "      <td>0</td>\n",
       "    </tr>\n",
       "    <tr>\n",
       "      <th>1</th>\n",
       "      <td>1</td>\n",
       "    </tr>\n",
       "    <tr>\n",
       "      <th>1</th>\n",
       "      <td>0</td>\n",
       "    </tr>\n",
       "    <tr>\n",
       "      <th>0</th>\n",
       "      <td>1</td>\n",
       "    </tr>\n",
       "  </tbody>\n",
       "</table>\n",
       "</div>"
      ],
      "text/plain": [
       "        0\n",
       "Gender   \n",
       "1       1\n",
       "0       0\n",
       "1       1\n",
       "1       0\n",
       "0       1"
      ]
     },
     "execution_count": 632,
     "metadata": {},
     "output_type": "execute_result"
    }
   ],
   "source": [
    "df = pd.DataFrame(ypred_test, ytest)\n",
    "df.head()"
   ]
  },
  {
   "cell_type": "markdown",
   "id": "ec9e2f4c",
   "metadata": {},
   "source": [
    "**Confusion Matrix**"
   ]
  },
  {
   "cell_type": "code",
   "execution_count": 633,
   "id": "9e586030",
   "metadata": {},
   "outputs": [],
   "source": [
    "from sklearn.metrics import confusion_matrix, accuracy_score"
   ]
  },
  {
   "cell_type": "code",
   "execution_count": 634,
   "id": "71a5b8b2",
   "metadata": {},
   "outputs": [
    {
     "data": {
      "text/plain": [
       "array([[88, 75],\n",
       "       [87, 80]], dtype=int64)"
      ]
     },
     "execution_count": 634,
     "metadata": {},
     "output_type": "execute_result"
    }
   ],
   "source": [
    "cm = confusion_matrix(ytest, ypred_test)\n",
    "cm"
   ]
  },
  {
   "cell_type": "code",
   "execution_count": 635,
   "id": "c9c28050",
   "metadata": {},
   "outputs": [
    {
     "data": {
      "text/plain": [
       "<AxesSubplot:>"
      ]
     },
     "execution_count": 635,
     "metadata": {},
     "output_type": "execute_result"
    },
    {
     "data": {
      "image/png": "[encoded data removed]",
      "text/plain": [
       "<Figure size 640x480 with 2 Axes>"
      ]
     },
     "metadata": {},
     "output_type": "display_data"
    }
   ],
   "source": [
    "sns.heatmap(pd.DataFrame(cm), annot=True, cmap=\"YlGn\" ,fmt='g')"
   ]
  },
  {
   "cell_type": "markdown",
   "id": "52e0705e",
   "metadata": {},
   "source": [
    "**Accuracy Score**"
   ]
  },
  {
   "cell_type": "code",
   "execution_count": 636,
   "id": "fec1406d",
   "metadata": {},
   "outputs": [
    {
     "name": "stdout",
     "output_type": "stream",
     "text": [
      "Accuracy of training data: 56.4179104477612\n",
      "Accuracy of testing data: 50.90909090909091\n"
     ]
    }
   ],
   "source": [
    "print(\"Accuracy of training data:\", accuracy_score(ytrain, ypred_train)*100)\n",
    "ac1 = accuracy_score(ytest, ypred_test)*100\n",
    "print(\"Accuracy of testing data:\", ac1)"
   ]
  },
  {
   "cell_type": "markdown",
   "id": "20abc65c",
   "metadata": {
    "papermill": {
     "duration": 0.119449,
     "end_time": "2021-07-23T04:10:50.777986",
     "exception": false,
     "start_time": "2021-07-23T04:10:50.658537",
     "status": "completed"
    },
    "tags": []
   },
   "source": [
    "**2. SVC**\n",
    "\n",
    "**In machine learning, support-vector machines (SVMs, also support-vector networks) are supervised learning models with associated learning algorithms that analyze data for classification and regression analysis.**\n"
   ]
  },
  {
   "cell_type": "code",
   "execution_count": 637,
   "id": "88e7a008",
   "metadata": {},
   "outputs": [
    {
     "data": {
      "text/plain": [
       "SVC(C=10)"
      ]
     },
     "execution_count": 637,
     "metadata": {},
     "output_type": "execute_result"
    }
   ],
   "source": [
    "svc = SVC(C=10)\n",
    "svc.fit(xtrain, ytrain)"
   ]
  },
  {
   "cell_type": "markdown",
   "id": "a741e960",
   "metadata": {},
   "source": [
    "**Prediction**"
   ]
  },
  {
   "cell_type": "code",
   "execution_count": 638,
   "id": "8be97aeb",
   "metadata": {},
   "outputs": [],
   "source": [
    "ypred_train = svc.predict(xtrain)\n",
    "ypred_test = svc.predict(xtest)\n",
    "# print(ypred_test)"
   ]
  },
  {
   "cell_type": "markdown",
   "id": "67a8719e",
   "metadata": {},
   "source": [
    "**Confusion Matrix**"
   ]
  },
  {
   "cell_type": "code",
   "execution_count": 639,
   "id": "5cf88763",
   "metadata": {},
   "outputs": [
    {
     "data": {
      "text/plain": [
       "array([[87, 97],\n",
       "       [76, 70]], dtype=int64)"
      ]
     },
     "execution_count": 639,
     "metadata": {},
     "output_type": "execute_result"
    }
   ],
   "source": [
    "cmt = np.array(confusion_matrix(ypred_test, ytest))\n",
    "cmt"
   ]
  },
  {
   "cell_type": "code",
   "execution_count": 640,
   "id": "0f104b20",
   "metadata": {},
   "outputs": [
    {
     "data": {
      "text/plain": [
       "<AxesSubplot:>"
      ]
     },
     "execution_count": 640,
     "metadata": {},
     "output_type": "execute_result"
    },
    {
     "data": {
      "image/png": "[encoded data removed]",
      "text/plain": [
       "<Figure size 640x480 with 2 Axes>"
      ]
     },
     "metadata": {},
     "output_type": "display_data"
    }
   ],
   "source": [
    "sns.heatmap(pd.DataFrame(cm), annot=True, cmap=\"Purples\" ,fmt='g')"
   ]
  },
  {
   "cell_type": "markdown",
   "id": "e7c23a6c",
   "metadata": {},
   "source": [
    "**Accuracy**"
   ]
  },
  {
   "cell_type": "code",
   "execution_count": 641,
   "id": "44960192",
   "metadata": {},
   "outputs": [
    {
     "name": "stdout",
     "output_type": "stream",
     "text": [
      "Accuracy of training data: 58.656716417910445\n",
      "Accuracy of testing data: 47.57575757575758\n"
     ]
    }
   ],
   "source": [
    "print(\"Accuracy of training data:\", accuracy_score(ytrain, ypred_train)*100)\n",
    "ac2 = accuracy_score(ytest, ypred_test)*100\n",
    "print(\"Accuracy of testing data:\", ac2)"
   ]
  },
  {
   "cell_type": "markdown",
   "id": "ee062e29",
   "metadata": {
    "papermill": {
     "duration": 0.121786,
     "end_time": "2021-07-23T04:10:52.378193",
     "exception": false,
     "start_time": "2021-07-23T04:10:52.256407",
     "status": "completed"
    },
    "tags": []
   },
   "source": [
    "**3. DECISION TREE CLASSIFIER**\n",
    "\n",
    "**Decision trees use multiple algorithms to decide to split a node into two or more sub-nodes. The creation of sub-nodes increases the homogeneity of resultant sub-nodes. ... The decision tree splits the nodes on all available variables and then selects the split which results in most homogeneous sub-nodes.**\n",
    "\n"
   ]
  },
  {
   "cell_type": "code",
   "execution_count": 642,
   "id": "cd512ba2",
   "metadata": {},
   "outputs": [
    {
     "data": {
      "text/plain": [
       "DecisionTreeClassifier(random_state=42)"
      ]
     },
     "execution_count": 642,
     "metadata": {},
     "output_type": "execute_result"
    }
   ],
   "source": [
    "dt = DecisionTreeClassifier(random_state=42)\n",
    "dt.fit(xtrain, ytrain)"
   ]
  },
  {
   "cell_type": "markdown",
   "id": "97b33207",
   "metadata": {},
   "source": [
    "**Prediction**"
   ]
  },
  {
   "cell_type": "code",
   "execution_count": 643,
   "id": "6598c1d4",
   "metadata": {},
   "outputs": [],
   "source": [
    "ypred_train = dt.predict(xtrain)\n",
    "ypred_test = dt.predict(xtest)"
   ]
  },
  {
   "cell_type": "markdown",
   "id": "de90946e",
   "metadata": {},
   "source": [
    "**Confusion Matrix**"
   ]
  },
  {
   "cell_type": "code",
   "execution_count": 644,
   "id": "ddda2535",
   "metadata": {},
   "outputs": [
    {
     "data": {
      "text/plain": [
       "array([[83, 77],\n",
       "       [80, 90]], dtype=int64)"
      ]
     },
     "execution_count": 644,
     "metadata": {},
     "output_type": "execute_result"
    }
   ],
   "source": [
    "cm = np.array(confusion_matrix(ypred_test, ytest))\n",
    "cm"
   ]
  },
  {
   "cell_type": "code",
   "execution_count": 645,
   "id": "42dda3a0",
   "metadata": {},
   "outputs": [
    {
     "data": {
      "text/plain": [
       "<AxesSubplot:>"
      ]
     },
     "execution_count": 645,
     "metadata": {},
     "output_type": "execute_result"
    },
    {
     "data": {
      "image/png": "[encoded data removed]",
      "text/plain": [
       "<Figure size 640x480 with 2 Axes>"
      ]
     },
     "metadata": {},
     "output_type": "display_data"
    }
   ],
   "source": [
    "sns.heatmap(pd.DataFrame(cm), annot=True, cmap='YlOrRd' ,fmt='g')"
   ]
  },
  {
   "cell_type": "markdown",
   "id": "ae8c260f",
   "metadata": {},
   "source": [
    "**Accuracy**"
   ]
  },
  {
   "cell_type": "code",
   "execution_count": 646,
   "id": "49481298",
   "metadata": {},
   "outputs": [
    {
     "name": "stdout",
     "output_type": "stream",
     "text": [
      "Accuracy of training data: 100.0\n",
      "Accuracy of testing data: 52.42424242424243\n"
     ]
    }
   ],
   "source": [
    "print(\"Accuracy of training data:\", accuracy_score(ytrain, ypred_train)*100)\n",
    "ac3 = accuracy_score(ytest, ypred_test)*100\n",
    "print(\"Accuracy of testing data:\", ac3)"
   ]
  },
  {
   "cell_type": "markdown",
   "id": "b92f57e1",
   "metadata": {
    "papermill": {
     "duration": 0.119819,
     "end_time": "2021-07-23T04:10:49.731826",
     "exception": false,
     "start_time": "2021-07-23T04:10:49.612007",
     "status": "completed"
    },
    "tags": []
   },
   "source": [
    "**4. KNeighborsClassifier**\n",
    "\n",
    "**By default, the KNeighborsClassifier looks for the 5 nearest neighbors. We must explicitly tell the classifier to use Euclidean distance for determining the proximity between neighboring points.**\n",
    "\n"
   ]
  },
  {
   "cell_type": "code",
   "execution_count": 647,
   "id": "ca0aeaf9",
   "metadata": {},
   "outputs": [
    {
     "data": {
      "text/plain": [
       "KNeighborsClassifier(n_neighbors=4)"
      ]
     },
     "execution_count": 647,
     "metadata": {},
     "output_type": "execute_result"
    }
   ],
   "source": [
    "knn = KNeighborsClassifier(n_neighbors=4)\n",
    "knn.fit(xtrain, ytrain)"
   ]
  },
  {
   "cell_type": "markdown",
   "id": "5b750d3a",
   "metadata": {},
   "source": [
    "**Prediction**"
   ]
  },
  {
   "cell_type": "code",
   "execution_count": 648,
   "id": "265f4eee",
   "metadata": {},
   "outputs": [
    {
     "name": "stderr",
     "output_type": "stream",
     "text": [
      "C:\\ProgramData\\Anaconda3\\lib\\site-packages\\sklearn\\neighbors\\_classification.py:228: FutureWarning: Unlike other reduction functions (e.g. `skew`, `kurtosis`), the default behavior of `mode` typically preserves the axis it acts along. In SciPy 1.11.0, this behavior will change: the default value of `keepdims` will become False, the `axis` over which the statistic is taken will be eliminated, and the value None will no longer be accepted. Set `keepdims` to True or False to avoid this warning.\n",
      "  mode, _ = stats.mode(_y[neigh_ind, k], axis=1)\n",
      "C:\\ProgramData\\Anaconda3\\lib\\site-packages\\sklearn\\neighbors\\_classification.py:228: FutureWarning: Unlike other reduction functions (e.g. `skew`, `kurtosis`), the default behavior of `mode` typically preserves the axis it acts along. In SciPy 1.11.0, this behavior will change: the default value of `keepdims` will become False, the `axis` over which the statistic is taken will be eliminated, and the value None will no longer be accepted. Set `keepdims` to True or False to avoid this warning.\n",
      "  mode, _ = stats.mode(_y[neigh_ind, k], axis=1)\n"
     ]
    }
   ],
   "source": [
    "ypred_train = knn.predict(xtrain)\n",
    "ypred_test = knn.predict(xtest)"
   ]
  },
  {
   "cell_type": "markdown",
   "id": "ee08ac97",
   "metadata": {},
   "source": [
    "**Confusion Matrix**"
   ]
  },
  {
   "cell_type": "code",
   "execution_count": 649,
   "id": "ffd15692",
   "metadata": {},
   "outputs": [
    {
     "data": {
      "text/plain": [
       "array([[105, 122],\n",
       "       [ 58,  45]], dtype=int64)"
      ]
     },
     "execution_count": 649,
     "metadata": {},
     "output_type": "execute_result"
    }
   ],
   "source": [
    "cm = np.array(confusion_matrix(ypred_test, ytest))\n",
    "cm"
   ]
  },
  {
   "cell_type": "code",
   "execution_count": 650,
   "id": "3f9a9851",
   "metadata": {},
   "outputs": [
    {
     "data": {
      "text/plain": [
       "<AxesSubplot:>"
      ]
     },
     "execution_count": 650,
     "metadata": {},
     "output_type": "execute_result"
    },
    {
     "data": {
      "image/png": "[encoded data removed]",
      "text/plain": [
       "<Figure size 640x480 with 2 Axes>"
      ]
     },
     "metadata": {},
     "output_type": "display_data"
    }
   ],
   "source": [
    "sns.heatmap(pd.DataFrame(cm), annot=True, cmap=\"BuGn\" ,fmt='g')"
   ]
  },
  {
   "cell_type": "markdown",
   "id": "874e1603",
   "metadata": {},
   "source": [
    "**Accuracy**"
   ]
  },
  {
   "cell_type": "code",
   "execution_count": 651,
   "id": "2cc45c66",
   "metadata": {},
   "outputs": [
    {
     "name": "stdout",
     "output_type": "stream",
     "text": [
      "Accuracy of training data: 71.7910447761194\n",
      "Accuracy of testing data: 45.45454545454545\n"
     ]
    }
   ],
   "source": [
    "print(\"Accuracy of training data:\", accuracy_score(ytrain, ypred_train)*100)\n",
    "ac4 = accuracy_score(ytest, ypred_test)*100\n",
    "print(\"Accuracy of testing data:\", ac4)"
   ]
  },
  {
   "cell_type": "markdown",
   "id": "5f2a0505",
   "metadata": {
    "papermill": {
     "duration": 0.119333,
     "end_time": "2021-07-23T04:10:51.612460",
     "exception": false,
     "start_time": "2021-07-23T04:10:51.493127",
     "status": "completed"
    },
    "tags": []
   },
   "source": [
    "**5. Naive Bayes**\n",
    "\n",
    "**It is a classification technique based on Bayes' Theorem with an assumption of independence among predictors. In simple terms, a Naive Bayes classifier assumes that the presence of a particular feature in a class is unrelated to the presence of any other feature.**"
   ]
  },
  {
   "cell_type": "code",
   "execution_count": 652,
   "id": "1c836433",
   "metadata": {},
   "outputs": [
    {
     "data": {
      "text/plain": [
       "GaussianNB()"
      ]
     },
     "execution_count": 652,
     "metadata": {},
     "output_type": "execute_result"
    }
   ],
   "source": [
    "gnb = GaussianNB()\n",
    "gnb.fit(xtrain, ytrain)"
   ]
  },
  {
   "cell_type": "markdown",
   "id": "8db69291",
   "metadata": {},
   "source": [
    "**Prediction**"
   ]
  },
  {
   "cell_type": "code",
   "execution_count": 653,
   "id": "51a894e2",
   "metadata": {},
   "outputs": [],
   "source": [
    "ypred_train = gnb.predict(xtrain)\n",
    "ypred_test = gnb.predict(xtest)"
   ]
  },
  {
   "cell_type": "markdown",
   "id": "161df639",
   "metadata": {},
   "source": [
    "**Confusion Matrix**"
   ]
  },
  {
   "cell_type": "code",
   "execution_count": 654,
   "id": "db775ae2",
   "metadata": {},
   "outputs": [
    {
     "data": {
      "text/plain": [
       "array([[ 56,  54],\n",
       "       [107, 113]], dtype=int64)"
      ]
     },
     "execution_count": 654,
     "metadata": {},
     "output_type": "execute_result"
    }
   ],
   "source": [
    "cm = np.array(confusion_matrix(ypred_test, ytest))\n",
    "cm"
   ]
  },
  {
   "cell_type": "code",
   "execution_count": 655,
   "id": "b6811a5e",
   "metadata": {},
   "outputs": [
    {
     "data": {
      "text/plain": [
       "<AxesSubplot:>"
      ]
     },
     "execution_count": 655,
     "metadata": {},
     "output_type": "execute_result"
    },
    {
     "data": {
      "image/png": "[encoded data removed]",
      "text/plain": [
       "<Figure size 640x480 with 2 Axes>"
      ]
     },
     "metadata": {},
     "output_type": "display_data"
    }
   ],
   "source": [
    "sns.heatmap(pd.DataFrame(cm), annot=True, cmap='winter' ,fmt='g')"
   ]
  },
  {
   "cell_type": "markdown",
   "id": "25852c4f",
   "metadata": {},
   "source": [
    "**Accuracy**"
   ]
  },
  {
   "cell_type": "code",
   "execution_count": 656,
   "id": "afb9746e",
   "metadata": {},
   "outputs": [
    {
     "name": "stdout",
     "output_type": "stream",
     "text": [
      "Accuracy of training data: 55.37313432835821\n",
      "Accuracy of testing data: 51.21212121212121\n"
     ]
    }
   ],
   "source": [
    "print(\"Accuracy of training data:\", accuracy_score(ytrain, ypred_train)*100)\n",
    "ac5 = accuracy_score(ytest, ypred_test)*100\n",
    "print(\"Accuracy of testing data:\", ac5)"
   ]
  },
  {
   "cell_type": "markdown",
   "id": "93bb5bde",
   "metadata": {
    "papermill": {
     "duration": 0.123147,
     "end_time": "2021-07-23T04:10:53.183168",
     "exception": false,
     "start_time": "2021-07-23T04:10:53.060021",
     "status": "completed"
    },
    "tags": []
   },
   "source": [
    "**6.Random Forest Classifier**\n",
    "\n",
    "**A random forest classifier. A random forest is a meta estimator that fits a number of decision tree classifiers on various sub-samples of the dataset and uses averaging to improve the predictive accuracy and control over-fitting.**\n",
    "\n"
   ]
  },
  {
   "cell_type": "code",
   "execution_count": 657,
   "id": "cb8a7b85",
   "metadata": {},
   "outputs": [
    {
     "data": {
      "text/plain": [
       "RandomForestClassifier(random_state=42)"
      ]
     },
     "execution_count": 657,
     "metadata": {},
     "output_type": "execute_result"
    }
   ],
   "source": [
    "from sklearn.ensemble import RandomForestClassifier\n",
    "rf = RandomForestClassifier(random_state=42)\n",
    "rf.fit(xtrain, ytrain)"
   ]
  },
  {
   "cell_type": "markdown",
   "id": "4281c1dd",
   "metadata": {},
   "source": [
    "**Prediction**"
   ]
  },
  {
   "cell_type": "code",
   "execution_count": 658,
   "id": "90d45d24",
   "metadata": {},
   "outputs": [],
   "source": [
    "ypred_train = rf.predict(xtrain)\n",
    "ypred_test = rf.predict(xtest)"
   ]
  },
  {
   "cell_type": "markdown",
   "id": "c283388e",
   "metadata": {},
   "source": [
    "**Confusion Matrix**"
   ]
  },
  {
   "cell_type": "code",
   "execution_count": 659,
   "id": "5359c8a8",
   "metadata": {},
   "outputs": [
    {
     "data": {
      "text/plain": [
       "array([[86, 83],\n",
       "       [77, 84]], dtype=int64)"
      ]
     },
     "execution_count": 659,
     "metadata": {},
     "output_type": "execute_result"
    }
   ],
   "source": [
    "cm = np.array(confusion_matrix(ypred_test, ytest))\n",
    "cm"
   ]
  },
  {
   "cell_type": "code",
   "execution_count": 660,
   "id": "a9938763",
   "metadata": {},
   "outputs": [
    {
     "data": {
      "text/plain": [
       "<AxesSubplot:>"
      ]
     },
     "execution_count": 660,
     "metadata": {},
     "output_type": "execute_result"
    },
    {
     "data": {
      "image/png": "[encoded data removed]",
      "text/plain": [
       "<Figure size 640x480 with 2 Axes>"
      ]
     },
     "metadata": {},
     "output_type": "display_data"
    }
   ],
   "source": [
    "sns.heatmap(pd.DataFrame(cm), annot=True, cmap=\"gray\" ,fmt='g')"
   ]
  },
  {
   "cell_type": "markdown",
   "id": "516a1ab5",
   "metadata": {},
   "source": [
    "**Accuracy**"
   ]
  },
  {
   "cell_type": "code",
   "execution_count": 661,
   "id": "bfc0132f",
   "metadata": {},
   "outputs": [
    {
     "name": "stdout",
     "output_type": "stream",
     "text": [
      "Accuracy of training data: 100.0\n",
      "Accuracy of testing data: 51.515151515151516\n"
     ]
    }
   ],
   "source": [
    "print(\"Accuracy of training data:\", accuracy_score(ytrain, ypred_train)*100)\n",
    "ac6 = accuracy_score(ytest, ypred_test)*100\n",
    "print(\"Accuracy of testing data:\", ac6)"
   ]
  },
  {
   "cell_type": "markdown",
   "id": "312f2db4",
   "metadata": {},
   "source": [
    "# Comparing Accuracies of different Models"
   ]
  },
  {
   "cell_type": "code",
   "execution_count": 662,
   "id": "dfcbb6d4",
   "metadata": {},
   "outputs": [],
   "source": [
    "accuracy =  {ac1: 'Logistic Regression', ac2: 'SVM', ac3:'Decission Tree', ac4:'KNN', ac5: 'Naive Bayes', ac6: 'Random Forest'}"
   ]
  },
  {
   "cell_type": "code",
   "execution_count": 663,
   "id": "30d6e0c8",
   "metadata": {},
   "outputs": [
    {
     "data": {
      "image/png": "[encoded data removed]",
      "text/plain": [
       "<Figure size 1200x600 with 1 Axes>"
      ]
     },
     "metadata": {},
     "output_type": "display_data"
    }
   ],
   "source": [
    "plt.figure(figsize=(12, 6))\n",
    "model_accuracies = list(accuracy.values())\n",
    "model_names = list(accuracy.keys())\n",
    "sns.barplot(x=model_accuracies, y=model_names, palette='gist_rainbow');"
   ]
  },
  {
   "cell_type": "markdown",
   "id": "a741f16a",
   "metadata": {},
   "source": [
    "The model with highest Accuracy score is *Decision Tree CLassifier* with an accuracy of **52.424**"
   ]
  },
  {
   "cell_type": "code",
   "execution_count": 664,
   "id": "cf3aa6c5",
   "metadata": {},
   "outputs": [
    {
     "name": "stdout",
     "output_type": "stream",
     "text": [
      "KNN\n",
      "Score:  0.46060606060606063\n",
      "\n",
      "SVM\n",
      "Score:  0.47878787878787876\n",
      "\n",
      "Naive Bayes\n",
      "Score:  0.5121212121212121\n",
      "\n",
      "Decisiontree\n",
      "Score:  0.5121212121212121\n",
      "\n"
     ]
    },
    {
     "name": "stderr",
     "output_type": "stream",
     "text": [
      "C:\\ProgramData\\Anaconda3\\lib\\site-packages\\sklearn\\neighbors\\_classification.py:228: FutureWarning: Unlike other reduction functions (e.g. `skew`, `kurtosis`), the default behavior of `mode` typically preserves the axis it acts along. In SciPy 1.11.0, this behavior will change: the default value of `keepdims` will become False, the `axis` over which the statistic is taken will be eliminated, and the value None will no longer be accepted. Set `keepdims` to True or False to avoid this warning.\n",
      "  mode, _ = stats.mode(_y[neigh_ind, k], axis=1)\n"
     ]
    },
    {
     "name": "stdout",
     "output_type": "stream",
     "text": [
      "RandomForest\n",
      "Score:  0.503030303030303\n",
      "\n",
      "LogisticRegression\n",
      "Score:  0.509090909090909\n",
      "\n"
     ]
    },
    {
     "name": "stderr",
     "output_type": "stream",
     "text": [
      "C:\\ProgramData\\Anaconda3\\lib\\site-packages\\sklearn\\linear_model\\_logistic.py:814: ConvergenceWarning: lbfgs failed to converge (status=1):\n",
      "STOP: TOTAL NO. of ITERATIONS REACHED LIMIT.\n",
      "\n",
      "Increase the number of iterations (max_iter) or scale the data as shown in:\n",
      "    https://scikit-learn.org/stable/modules/preprocessing.html\n",
      "Please also refer to the documentation for alternative solver options:\n",
      "    https://scikit-learn.org/stable/modules/linear_model.html#logistic-regression\n",
      "  n_iter_i = _check_optimize_result(\n"
     ]
    }
   ],
   "source": [
    "models = {\n",
    "    \"KNN\": KNeighborsClassifier(),\n",
    "    \"SVM\" :SVC(),\n",
    "    \"Naive Bayes\": GaussianNB(),\n",
    "    \"Decisiontree\": DecisionTreeClassifier(),\n",
    "    \"RandomForest\": RandomForestClassifier(max_features='sqrt', random_state=5),\n",
    "    \"LogisticRegression\": LogisticRegression()\n",
    "}\n",
    "\n",
    "for model in models.items():\n",
    "    m = model[1]\n",
    "    m.fit(xtrain, ytrain)\n",
    "    print(model[0])\n",
    "    print(\"Score: \", m.score(xtest,ytest))\n",
    "    print(\"\")"
   ]
  },
  {
   "cell_type": "markdown",
   "id": "340e0e27",
   "metadata": {},
   "source": [
    "The model with highest Accuracy score is *Decision Tree CLassifier* with an accuracy of **52.424** and score of **0.512**"
   ]
  },
  {
   "cell_type": "markdown",
   "id": "184d3eb7",
   "metadata": {
    "papermill": {
     "duration": 0.128115,
     "end_time": "2021-07-23T04:10:55.322978",
     "exception": false,
     "start_time": "2021-07-23T04:10:55.194863",
     "status": "completed"
    },
    "tags": []
   },
   "source": [
    "**7. Gradient Boosting Classifier**\n",
    "\n",
    "**Gradient boosting classifiers are a group of machine learning algorithms that combine many weak learning models together to create a strong predictive model. Decision trees are usually used when doing gradient boosting.**\n",
    "\n"
   ]
  },
  {
   "cell_type": "code",
   "execution_count": 665,
   "id": "72db38df",
   "metadata": {
    "execution": {
     "iopub.execute_input": "2021-07-23T04:10:55.580723Z",
     "iopub.status.busy": "2021-07-23T04:10:55.580068Z",
     "iopub.status.idle": "2021-07-23T04:10:55.885482Z",
     "shell.execute_reply": "2021-07-23T04:10:55.884675Z",
     "shell.execute_reply.started": "2021-07-23T03:30:01.991943Z"
    },
    "papermill": {
     "duration": 0.436476,
     "end_time": "2021-07-23T04:10:55.885688",
     "exception": false,
     "start_time": "2021-07-23T04:10:55.449212",
     "status": "completed"
    },
    "tags": []
   },
   "outputs": [
    {
     "data": {
      "text/plain": [
       "GradientBoostingClassifier()"
      ]
     },
     "execution_count": 665,
     "metadata": {},
     "output_type": "execute_result"
    }
   ],
   "source": [
    "from sklearn.ensemble import GradientBoostingClassifier\n",
    "gbc=GradientBoostingClassifier()\n",
    "gbc.fit(x_train,y_train)"
   ]
  },
  {
   "cell_type": "code",
   "execution_count": 666,
   "id": "4981a230",
   "metadata": {
    "execution": {
     "iopub.execute_input": "2021-07-23T04:10:56.153481Z",
     "iopub.status.busy": "2021-07-23T04:10:56.152376Z",
     "iopub.status.idle": "2021-07-23T04:10:56.169812Z",
     "shell.execute_reply": "2021-07-23T04:10:56.169118Z",
     "shell.execute_reply.started": "2021-07-23T03:30:02.311872Z"
    },
    "papermill": {
     "duration": 0.15743,
     "end_time": "2021-07-23T04:10:56.169956",
     "exception": false,
     "start_time": "2021-07-23T04:10:56.012526",
     "status": "completed"
    },
    "tags": []
   },
   "outputs": [
    {
     "name": "stdout",
     "output_type": "stream",
     "text": [
      "Classification Report is:\n",
      "               precision    recall  f1-score   support\n",
      "\n",
      "           0       0.49      0.50      0.49       124\n",
      "           1       0.50      0.48      0.49       126\n",
      "\n",
      "    accuracy                           0.49       250\n",
      "   macro avg       0.49      0.49      0.49       250\n",
      "weighted avg       0.49      0.49      0.49       250\n",
      "\n",
      "Confusion Matrix:\n",
      " [[62 62]\n",
      " [65 61]]\n",
      "Training Score:\n",
      " 88.26666666666667\n"
     ]
    }
   ],
   "source": [
    "y_pred=gbc.predict(x_test)\n",
    "from sklearn.metrics import accuracy_score,classification_report,confusion_matrix\n",
    "from sklearn.metrics import r2_score\n",
    "from sklearn.metrics import mean_squared_error\n",
    "print(\"Classification Report is:\\n\",classification_report(y_test,y_pred))\n",
    "print(\"Confusion Matrix:\\n\",confusion_matrix(y_test,y_pred))\n",
    "print(\"Training Score:\\n\",gbc.score(x_train,y_train)*100)"
   ]
  },
  {
   "cell_type": "code",
   "execution_count": 667,
   "id": "d0ed2f69",
   "metadata": {
    "execution": {
     "iopub.execute_input": "2021-07-23T04:10:56.430450Z",
     "iopub.status.busy": "2021-07-23T04:10:56.429461Z",
     "iopub.status.idle": "2021-07-23T04:10:56.434032Z",
     "shell.execute_reply": "2021-07-23T04:10:56.433447Z",
     "shell.execute_reply.started": "2021-07-23T04:00:57.452279Z"
    },
    "papermill": {
     "duration": 0.140087,
     "end_time": "2021-07-23T04:10:56.434173",
     "exception": false,
     "start_time": "2021-07-23T04:10:56.294086",
     "status": "completed"
    },
    "tags": []
   },
   "outputs": [
    {
     "data": {
      "text/html": [
       "<div>\n",
       "<style scoped>\n",
       "    .dataframe tbody tr th:only-of-type {\n",
       "        vertical-align: middle;\n",
       "    }\n",
       "\n",
       "    .dataframe tbody tr th {\n",
       "        vertical-align: top;\n",
       "    }\n",
       "\n",
       "    .dataframe thead th {\n",
       "        text-align: right;\n",
       "    }\n",
       "</style>\n",
       "<table border=\"1\" class=\"dataframe\">\n",
       "  <thead>\n",
       "    <tr style=\"text-align: right;\">\n",
       "      <th></th>\n",
       "      <th>Actual</th>\n",
       "      <th>Predicted</th>\n",
       "    </tr>\n",
       "  </thead>\n",
       "  <tbody>\n",
       "    <tr>\n",
       "      <th>993</th>\n",
       "      <td>1</td>\n",
       "      <td>0</td>\n",
       "    </tr>\n",
       "    <tr>\n",
       "      <th>859</th>\n",
       "      <td>0</td>\n",
       "      <td>0</td>\n",
       "    </tr>\n",
       "    <tr>\n",
       "      <th>298</th>\n",
       "      <td>1</td>\n",
       "      <td>0</td>\n",
       "    </tr>\n",
       "    <tr>\n",
       "      <th>553</th>\n",
       "      <td>1</td>\n",
       "      <td>0</td>\n",
       "    </tr>\n",
       "    <tr>\n",
       "      <th>672</th>\n",
       "      <td>0</td>\n",
       "      <td>0</td>\n",
       "    </tr>\n",
       "    <tr>\n",
       "      <th>...</th>\n",
       "      <td>...</td>\n",
       "      <td>...</td>\n",
       "    </tr>\n",
       "    <tr>\n",
       "      <th>462</th>\n",
       "      <td>0</td>\n",
       "      <td>1</td>\n",
       "    </tr>\n",
       "    <tr>\n",
       "      <th>356</th>\n",
       "      <td>0</td>\n",
       "      <td>1</td>\n",
       "    </tr>\n",
       "    <tr>\n",
       "      <th>2</th>\n",
       "      <td>1</td>\n",
       "      <td>0</td>\n",
       "    </tr>\n",
       "    <tr>\n",
       "      <th>478</th>\n",
       "      <td>1</td>\n",
       "      <td>0</td>\n",
       "    </tr>\n",
       "    <tr>\n",
       "      <th>695</th>\n",
       "      <td>0</td>\n",
       "      <td>1</td>\n",
       "    </tr>\n",
       "  </tbody>\n",
       "</table>\n",
       "<p>250 rows × 2 columns</p>\n",
       "</div>"
      ],
      "text/plain": [
       "     Actual  Predicted\n",
       "993       1          0\n",
       "859       0          0\n",
       "298       1          0\n",
       "553       1          0\n",
       "672       0          0\n",
       "..      ...        ...\n",
       "462       0          1\n",
       "356       0          1\n",
       "2         1          0\n",
       "478       1          0\n",
       "695       0          1\n",
       "\n",
       "[250 rows x 2 columns]"
      ]
     },
     "execution_count": 667,
     "metadata": {},
     "output_type": "execute_result"
    }
   ],
   "source": [
    "data = pd.DataFrame({'Actual': y_test, 'Predicted': y_pred})\n",
    "data"
   ]
  },
  {
   "cell_type": "markdown",
   "id": "a8b7ce2b",
   "metadata": {
    "papermill": {
     "duration": 0.12532,
     "end_time": "2021-07-23T04:10:58.701454",
     "exception": false,
     "start_time": "2021-07-23T04:10:58.576134",
     "status": "completed"
    },
    "tags": []
   },
   "source": [
    "**8.Bagging Classifier**\n",
    "\n",
    "**A Bagging classifier is an ensemble meta-estimator that fits base classifiers each on random subsets of the original dataset and then aggregate their individual predictions (either by voting or by averaging) to form a final prediction. ... The base estimator to fit on random subsets of the dataset.**\n",
    "\n"
   ]
  },
  {
   "cell_type": "code",
   "execution_count": 668,
   "id": "7248d54b",
   "metadata": {
    "execution": {
     "iopub.execute_input": "2021-07-23T04:10:58.964421Z",
     "iopub.status.busy": "2021-07-23T04:10:58.963315Z",
     "iopub.status.idle": "2021-07-23T04:10:59.044247Z",
     "shell.execute_reply": "2021-07-23T04:10:59.043067Z",
     "shell.execute_reply.started": "2021-07-23T03:41:15.137659Z"
    },
    "papermill": {
     "duration": 0.216484,
     "end_time": "2021-07-23T04:10:59.044524",
     "exception": false,
     "start_time": "2021-07-23T04:10:58.828040",
     "status": "completed"
    },
    "tags": []
   },
   "outputs": [
    {
     "data": {
      "text/plain": [
       "0.532"
      ]
     },
     "execution_count": 668,
     "metadata": {},
     "output_type": "execute_result"
    }
   ],
   "source": [
    "from sklearn.ensemble import BaggingClassifier\n",
    "from sklearn import tree\n",
    "model = BaggingClassifier(tree.DecisionTreeClassifier(random_state=1))\n",
    "model.fit(x_train, y_train)\n",
    "model.score(x_test,y_test)"
   ]
  },
  {
   "cell_type": "code",
   "execution_count": 669,
   "id": "772f42ae",
   "metadata": {
    "execution": {
     "iopub.execute_input": "2021-07-23T04:10:59.322066Z",
     "iopub.status.busy": "2021-07-23T04:10:59.321427Z",
     "iopub.status.idle": "2021-07-23T04:10:59.324749Z",
     "shell.execute_reply": "2021-07-23T04:10:59.325269Z",
     "shell.execute_reply.started": "2021-07-23T03:47:15.307074Z"
    },
    "papermill": {
     "duration": 0.145025,
     "end_time": "2021-07-23T04:10:59.325433",
     "exception": false,
     "start_time": "2021-07-23T04:10:59.180408",
     "status": "completed"
    },
    "tags": []
   },
   "outputs": [
    {
     "data": {
      "text/html": [
       "<div>\n",
       "<style scoped>\n",
       "    .dataframe tbody tr th:only-of-type {\n",
       "        vertical-align: middle;\n",
       "    }\n",
       "\n",
       "    .dataframe tbody tr th {\n",
       "        vertical-align: top;\n",
       "    }\n",
       "\n",
       "    .dataframe thead th {\n",
       "        text-align: right;\n",
       "    }\n",
       "</style>\n",
       "<table border=\"1\" class=\"dataframe\">\n",
       "  <thead>\n",
       "    <tr style=\"text-align: right;\">\n",
       "      <th></th>\n",
       "      <th>Actual</th>\n",
       "      <th>Predicted</th>\n",
       "    </tr>\n",
       "  </thead>\n",
       "  <tbody>\n",
       "    <tr>\n",
       "      <th>993</th>\n",
       "      <td>1</td>\n",
       "      <td>0</td>\n",
       "    </tr>\n",
       "    <tr>\n",
       "      <th>859</th>\n",
       "      <td>0</td>\n",
       "      <td>0</td>\n",
       "    </tr>\n",
       "    <tr>\n",
       "      <th>298</th>\n",
       "      <td>1</td>\n",
       "      <td>0</td>\n",
       "    </tr>\n",
       "    <tr>\n",
       "      <th>553</th>\n",
       "      <td>1</td>\n",
       "      <td>0</td>\n",
       "    </tr>\n",
       "    <tr>\n",
       "      <th>672</th>\n",
       "      <td>0</td>\n",
       "      <td>0</td>\n",
       "    </tr>\n",
       "    <tr>\n",
       "      <th>...</th>\n",
       "      <td>...</td>\n",
       "      <td>...</td>\n",
       "    </tr>\n",
       "    <tr>\n",
       "      <th>462</th>\n",
       "      <td>0</td>\n",
       "      <td>1</td>\n",
       "    </tr>\n",
       "    <tr>\n",
       "      <th>356</th>\n",
       "      <td>0</td>\n",
       "      <td>1</td>\n",
       "    </tr>\n",
       "    <tr>\n",
       "      <th>2</th>\n",
       "      <td>1</td>\n",
       "      <td>0</td>\n",
       "    </tr>\n",
       "    <tr>\n",
       "      <th>478</th>\n",
       "      <td>1</td>\n",
       "      <td>0</td>\n",
       "    </tr>\n",
       "    <tr>\n",
       "      <th>695</th>\n",
       "      <td>0</td>\n",
       "      <td>1</td>\n",
       "    </tr>\n",
       "  </tbody>\n",
       "</table>\n",
       "<p>250 rows × 2 columns</p>\n",
       "</div>"
      ],
      "text/plain": [
       "     Actual  Predicted\n",
       "993       1          0\n",
       "859       0          0\n",
       "298       1          0\n",
       "553       1          0\n",
       "672       0          0\n",
       "..      ...        ...\n",
       "462       0          1\n",
       "356       0          1\n",
       "2         1          0\n",
       "478       1          0\n",
       "695       0          1\n",
       "\n",
       "[250 rows x 2 columns]"
      ]
     },
     "execution_count": 669,
     "metadata": {},
     "output_type": "execute_result"
    }
   ],
   "source": [
    "data = pd.DataFrame({'Actual': y_test, 'Predicted': y_pred})\n",
    "data"
   ]
  },
  {
   "cell_type": "markdown",
   "id": "07237ccd",
   "metadata": {
    "papermill": {
     "duration": 0.12765,
     "end_time": "2021-07-23T04:10:59.581681",
     "exception": false,
     "start_time": "2021-07-23T04:10:59.454031",
     "status": "completed"
    },
    "tags": []
   },
   "source": [
    "**CONCLUSION :**\n",
    "    \n",
    "**ACCURACIES OF DIFFERENT MODELS ARE:**\n",
    "\n",
    "**KNeighbors Classifier= 45.45 %**\n",
    "\n",
    "**SVC= 47.57 %**\n",
    "\n",
    "**Logistic Regression = 50.90 %**\n",
    "\n",
    "**Naiye Bayes= 51.21 %**\n",
    "\n",
    "**Decision Tree Classifier= 52.42 %**\n",
    "\n",
    "**Random Forest Classifier= 51.51 %**\n",
    "\n",
    "**Gradient Boosting Classifier= 88.26 %**\n",
    "\n",
    "**Bagging Classifier = 53.2 %**\n",
    "\n",
    "\n",
    "\n",
    "**We got a good accuracy of about 52.42 % using Desicion Tree Classifier and Gradient Boosting Classifier which is quite well for the given dataset.**\n",
    "\n",
    "**The accuracy of other models can be increased further by HyperTuning.**\n",
    "\n",
    "\n",
    "\n",
    "\n",
    "\n",
    "\n",
    "\n",
    "\n",
    "\n"
   ]
  },
  {
   "cell_type": "markdown",
   "id": "36e31786",
   "metadata": {
    "papermill": {
     "duration": 0.125725,
     "end_time": "2021-07-23T04:10:59.833692",
     "exception": false,
     "start_time": "2021-07-23T04:10:59.707967",
     "status": "completed"
    },
    "tags": []
   },
   "source": [
    "# **THANK YOU**"
   ]
  }
 ],
 "metadata": {
  "kernelspec": {
   "display_name": "Python 3 (ipykernel)",
   "language": "python",
   "name": "python3"
  },
  "language_info": {
   "codemirror_mode": {
    "name": "ipython",
    "version": 3
   },
   "file_extension": ".py",
   "mimetype": "text/x-python",
   "name": "python",
   "nbconvert_exporter": "python",
   "pygments_lexer": "ipython3",
   "version": "3.9.13"
  },
  "papermill": {
   "default_parameters": {},
   "duration": 59.182286,
   "end_time": "2021-07-23T04:11:01.389222",
   "environment_variables": {},
   "exception": null,
   "input_path": "__notebook__.ipynb",
   "output_path": "__notebook__.ipynb",
   "parameters": {},
   "start_time": "2021-07-23T04:10:02.206936",
   "version": "2.3.3"
  }
 },
 "nbformat": 4,
 "nbformat_minor": 5
}
